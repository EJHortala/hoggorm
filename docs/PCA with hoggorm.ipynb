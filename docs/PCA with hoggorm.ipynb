{
 "cells": [
  {
   "cell_type": "markdown",
   "metadata": {},
   "source": [
    "# Principal component analysis (PCA) with hoggorm"
   ]
  },
  {
   "cell_type": "markdown",
   "metadata": {},
   "source": [
    "This notebook illustrates how to use the **hoggorm** package to carry out principal component analysis (PCA) on a multivariate data set. Furthermore, we will learn how to visualise the results of the PCA using the **hoggormPlot** package."
   ]
  },
  {
   "cell_type": "markdown",
   "metadata": {},
   "source": [
    "---"
   ]
  },
  {
   "cell_type": "markdown",
   "metadata": {},
   "source": [
    "### Load and prepare data"
   ]
  },
  {
   "cell_type": "markdown",
   "metadata": {},
   "source": [
    "First import **hoggorm** for analysis of the data and **hoggormPlot** for plotting of the analysis results. We'll also import **pandas** such that we can read the data into a data frame. **numpy** is needed for checking dimensions of the data."
   ]
  },
  {
   "cell_type": "code",
   "execution_count": 1,
   "metadata": {
    "collapsed": false
   },
   "outputs": [],
   "source": [
    "import hoggorm as ho\n",
    "import hoggormplot.resPlotting as hop\n",
    "import pandas as pd\n",
    "import numpy as np"
   ]
  },
  {
   "cell_type": "markdown",
   "metadata": {},
   "source": [
    "Next, load some multivariate data that we are going to analyse using **hoggorm**. The data can be acquired from the OECD and holds the percentages of various cacner types in men. After the data has been loaded into the pandas data frame, we'll display it in the notebook."
   ]
  },
  {
   "cell_type": "code",
   "execution_count": 2,
   "metadata": {
    "collapsed": false
   },
   "outputs": [
    {
     "data": {
      "text/html": [
       "<div>\n",
       "<table border=\"1\" class=\"dataframe\">\n",
       "  <thead>\n",
       "    <tr style=\"text-align: right;\">\n",
       "      <th></th>\n",
       "      <th>Trachea-bronchus-lung</th>\n",
       "      <th>Colon, rectum and anus</th>\n",
       "      <th>Stomach</th>\n",
       "      <th>Pancreas</th>\n",
       "      <th>Prostate</th>\n",
       "      <th>Liver</th>\n",
       "      <th>Hodgkins disease</th>\n",
       "      <th>Leukemia</th>\n",
       "      <th>Bladder</th>\n",
       "      <th>Skin</th>\n",
       "    </tr>\n",
       "    <tr>\n",
       "      <th>MEN</th>\n",
       "      <th></th>\n",
       "      <th></th>\n",
       "      <th></th>\n",
       "      <th></th>\n",
       "      <th></th>\n",
       "      <th></th>\n",
       "      <th></th>\n",
       "      <th></th>\n",
       "      <th></th>\n",
       "      <th></th>\n",
       "    </tr>\n",
       "  </thead>\n",
       "  <tbody>\n",
       "    <tr>\n",
       "      <th>Australia</th>\n",
       "      <td>20.493429</td>\n",
       "      <td>9.290024</td>\n",
       "      <td>2.954790</td>\n",
       "      <td>5.033474</td>\n",
       "      <td>13.612695</td>\n",
       "      <td>4.049921</td>\n",
       "      <td>0.157038</td>\n",
       "      <td>3.855691</td>\n",
       "      <td>3.107695</td>\n",
       "      <td>4.425986</td>\n",
       "    </tr>\n",
       "    <tr>\n",
       "      <th>Austria</th>\n",
       "      <td>22.286929</td>\n",
       "      <td>10.944722</td>\n",
       "      <td>4.584951</td>\n",
       "      <td>6.627842</td>\n",
       "      <td>10.574968</td>\n",
       "      <td>5.666482</td>\n",
       "      <td>0.147902</td>\n",
       "      <td>3.780736</td>\n",
       "      <td>3.031984</td>\n",
       "      <td>1.941209</td>\n",
       "    </tr>\n",
       "    <tr>\n",
       "      <th>Belgium</th>\n",
       "      <td>30.090706</td>\n",
       "      <td>10.450900</td>\n",
       "      <td>3.253582</td>\n",
       "      <td>5.179440</td>\n",
       "      <td>9.162613</td>\n",
       "      <td>3.450769</td>\n",
       "      <td>0.144604</td>\n",
       "      <td>3.569081</td>\n",
       "      <td>4.719337</td>\n",
       "      <td>1.018798</td>\n",
       "    </tr>\n",
       "    <tr>\n",
       "      <th>Canada</th>\n",
       "      <td>27.731624</td>\n",
       "      <td>11.443416</td>\n",
       "      <td>3.011842</td>\n",
       "      <td>5.419733</td>\n",
       "      <td>9.739695</td>\n",
       "      <td>3.863702</td>\n",
       "      <td>0.195163</td>\n",
       "      <td>3.789857</td>\n",
       "      <td>3.534035</td>\n",
       "      <td>1.537569</td>\n",
       "    </tr>\n",
       "    <tr>\n",
       "      <th>Chile</th>\n",
       "      <td>13.304823</td>\n",
       "      <td>8.022491</td>\n",
       "      <td>17.272511</td>\n",
       "      <td>4.165677</td>\n",
       "      <td>16.195454</td>\n",
       "      <td>5.044745</td>\n",
       "      <td>0.221747</td>\n",
       "      <td>3.009424</td>\n",
       "      <td>2.162034</td>\n",
       "      <td>0.554368</td>\n",
       "    </tr>\n",
       "    <tr>\n",
       "      <th>Czech Rep.</th>\n",
       "      <td>24.875324</td>\n",
       "      <td>13.970344</td>\n",
       "      <td>4.455083</td>\n",
       "      <td>6.742470</td>\n",
       "      <td>9.455416</td>\n",
       "      <td>3.464326</td>\n",
       "      <td>0.279274</td>\n",
       "      <td>3.371235</td>\n",
       "      <td>3.557417</td>\n",
       "      <td>1.522708</td>\n",
       "    </tr>\n",
       "    <tr>\n",
       "      <th>Denmark</th>\n",
       "      <td>24.311585</td>\n",
       "      <td>12.168196</td>\n",
       "      <td>3.212602</td>\n",
       "      <td>6.375589</td>\n",
       "      <td>14.301662</td>\n",
       "      <td>3.162987</td>\n",
       "      <td>0.210866</td>\n",
       "      <td>3.100968</td>\n",
       "      <td>4.366162</td>\n",
       "      <td>2.245100</td>\n",
       "    </tr>\n",
       "    <tr>\n",
       "      <th>Estonia</th>\n",
       "      <td>26.371951</td>\n",
       "      <td>10.264228</td>\n",
       "      <td>8.333333</td>\n",
       "      <td>5.436992</td>\n",
       "      <td>13.008130</td>\n",
       "      <td>2.388211</td>\n",
       "      <td>0.101626</td>\n",
       "      <td>3.861789</td>\n",
       "      <td>3.506098</td>\n",
       "      <td>1.016260</td>\n",
       "    </tr>\n",
       "    <tr>\n",
       "      <th>Finland</th>\n",
       "      <td>23.917887</td>\n",
       "      <td>9.818587</td>\n",
       "      <td>4.169319</td>\n",
       "      <td>7.940802</td>\n",
       "      <td>13.574157</td>\n",
       "      <td>4.232973</td>\n",
       "      <td>0.159134</td>\n",
       "      <td>2.737110</td>\n",
       "      <td>2.928071</td>\n",
       "      <td>2.418842</td>\n",
       "    </tr>\n",
       "    <tr>\n",
       "      <th>France</th>\n",
       "      <td>25.125758</td>\n",
       "      <td>10.161689</td>\n",
       "      <td>3.360656</td>\n",
       "      <td>5.335729</td>\n",
       "      <td>9.885470</td>\n",
       "      <td>6.466427</td>\n",
       "      <td>0.143723</td>\n",
       "      <td>3.535819</td>\n",
       "      <td>4.350999</td>\n",
       "      <td>1.112733</td>\n",
       "    </tr>\n",
       "    <tr>\n",
       "      <th>Germany</th>\n",
       "      <td>24.401222</td>\n",
       "      <td>11.177186</td>\n",
       "      <td>4.592273</td>\n",
       "      <td>6.795183</td>\n",
       "      <td>11.012912</td>\n",
       "      <td>4.106844</td>\n",
       "      <td>0.151953</td>\n",
       "      <td>3.609916</td>\n",
       "      <td>3.198410</td>\n",
       "      <td>1.467786</td>\n",
       "    </tr>\n",
       "    <tr>\n",
       "      <th>Greece</th>\n",
       "      <td>31.667245</td>\n",
       "      <td>8.503992</td>\n",
       "      <td>4.830499</td>\n",
       "      <td>5.229666</td>\n",
       "      <td>9.013074</td>\n",
       "      <td>1.237996</td>\n",
       "      <td>0.792549</td>\n",
       "      <td>3.823904</td>\n",
       "      <td>5.582552</td>\n",
       "      <td>0.769409</td>\n",
       "    </tr>\n",
       "    <tr>\n",
       "      <th>Hungary</th>\n",
       "      <td>30.412574</td>\n",
       "      <td>16.081953</td>\n",
       "      <td>5.287679</td>\n",
       "      <td>5.293292</td>\n",
       "      <td>6.797642</td>\n",
       "      <td>3.104126</td>\n",
       "      <td>0.117878</td>\n",
       "      <td>2.559641</td>\n",
       "      <td>3.575639</td>\n",
       "      <td>1.044064</td>\n",
       "    </tr>\n",
       "    <tr>\n",
       "      <th>Iceland</th>\n",
       "      <td>20.322581</td>\n",
       "      <td>13.225806</td>\n",
       "      <td>4.193548</td>\n",
       "      <td>3.870968</td>\n",
       "      <td>17.096774</td>\n",
       "      <td>0.967742</td>\n",
       "      <td>0.645161</td>\n",
       "      <td>2.903226</td>\n",
       "      <td>5.806452</td>\n",
       "      <td>0.967742</td>\n",
       "    </tr>\n",
       "    <tr>\n",
       "      <th>Ireland</th>\n",
       "      <td>22.957477</td>\n",
       "      <td>12.326804</td>\n",
       "      <td>4.395604</td>\n",
       "      <td>5.805065</td>\n",
       "      <td>12.446249</td>\n",
       "      <td>3.511706</td>\n",
       "      <td>0.238892</td>\n",
       "      <td>3.057812</td>\n",
       "      <td>2.866699</td>\n",
       "      <td>1.887243</td>\n",
       "    </tr>\n",
       "    <tr>\n",
       "      <th>Israel</th>\n",
       "      <td>21.822897</td>\n",
       "      <td>12.671360</td>\n",
       "      <td>5.446462</td>\n",
       "      <td>8.725454</td>\n",
       "      <td>7.725083</td>\n",
       "      <td>3.501297</td>\n",
       "      <td>0.351982</td>\n",
       "      <td>5.094479</td>\n",
       "      <td>4.890700</td>\n",
       "      <td>2.278622</td>\n",
       "    </tr>\n",
       "    <tr>\n",
       "      <th>Italy</th>\n",
       "      <td>26.067418</td>\n",
       "      <td>10.900444</td>\n",
       "      <td>6.087111</td>\n",
       "      <td>5.398894</td>\n",
       "      <td>7.628006</td>\n",
       "      <td>6.953407</td>\n",
       "      <td>0.250356</td>\n",
       "      <td>3.660018</td>\n",
       "      <td>4.687631</td>\n",
       "      <td>1.131317</td>\n",
       "    </tr>\n",
       "    <tr>\n",
       "      <th>Japan</th>\n",
       "      <td>23.990561</td>\n",
       "      <td>11.971776</td>\n",
       "      <td>14.737968</td>\n",
       "      <td>7.315522</td>\n",
       "      <td>5.327754</td>\n",
       "      <td>9.132765</td>\n",
       "      <td>0.051157</td>\n",
       "      <td>2.214981</td>\n",
       "      <td>2.426985</td>\n",
       "      <td>0.151168</td>\n",
       "    </tr>\n",
       "    <tr>\n",
       "      <th>Korea</th>\n",
       "      <td>26.204210</td>\n",
       "      <td>10.098575</td>\n",
       "      <td>13.107486</td>\n",
       "      <td>5.630408</td>\n",
       "      <td>3.142353</td>\n",
       "      <td>18.281606</td>\n",
       "      <td>0.094701</td>\n",
       "      <td>1.977960</td>\n",
       "      <td>1.975808</td>\n",
       "      <td>0.271189</td>\n",
       "    </tr>\n",
       "    <tr>\n",
       "      <th>Luxembourg</th>\n",
       "      <td>25.183824</td>\n",
       "      <td>11.948529</td>\n",
       "      <td>4.044118</td>\n",
       "      <td>6.066176</td>\n",
       "      <td>7.720588</td>\n",
       "      <td>6.066176</td>\n",
       "      <td>0.183824</td>\n",
       "      <td>4.779412</td>\n",
       "      <td>4.044118</td>\n",
       "      <td>1.838235</td>\n",
       "    </tr>\n",
       "    <tr>\n",
       "      <th>Mexico</th>\n",
       "      <td>11.495974</td>\n",
       "      <td>6.910581</td>\n",
       "      <td>8.227151</td>\n",
       "      <td>5.088289</td>\n",
       "      <td>16.321514</td>\n",
       "      <td>7.591468</td>\n",
       "      <td>0.740218</td>\n",
       "      <td>6.260771</td>\n",
       "      <td>1.873146</td>\n",
       "      <td>0.802373</td>\n",
       "    </tr>\n",
       "    <tr>\n",
       "      <th>Netherlands</th>\n",
       "      <td>27.155154</td>\n",
       "      <td>11.469393</td>\n",
       "      <td>3.543496</td>\n",
       "      <td>5.334906</td>\n",
       "      <td>11.076157</td>\n",
       "      <td>2.127846</td>\n",
       "      <td>0.157295</td>\n",
       "      <td>3.062874</td>\n",
       "      <td>3.700791</td>\n",
       "      <td>2.154061</td>\n",
       "    </tr>\n",
       "    <tr>\n",
       "      <th>New Zealand</th>\n",
       "      <td>19.773765</td>\n",
       "      <td>13.095497</td>\n",
       "      <td>4.198390</td>\n",
       "      <td>4.763977</td>\n",
       "      <td>12.725691</td>\n",
       "      <td>3.567544</td>\n",
       "      <td>0.195780</td>\n",
       "      <td>4.154884</td>\n",
       "      <td>2.740918</td>\n",
       "      <td>5.286056</td>\n",
       "    </tr>\n",
       "    <tr>\n",
       "      <th>Norway</th>\n",
       "      <td>21.398230</td>\n",
       "      <td>13.451327</td>\n",
       "      <td>3.203540</td>\n",
       "      <td>6.194690</td>\n",
       "      <td>17.486726</td>\n",
       "      <td>2.566372</td>\n",
       "      <td>0.176991</td>\n",
       "      <td>3.221239</td>\n",
       "      <td>4.247788</td>\n",
       "      <td>3.309735</td>\n",
       "    </tr>\n",
       "    <tr>\n",
       "      <th>Poland</th>\n",
       "      <td>30.656934</td>\n",
       "      <td>11.920225</td>\n",
       "      <td>6.439067</td>\n",
       "      <td>4.550070</td>\n",
       "      <td>8.201621</td>\n",
       "      <td>2.086327</td>\n",
       "      <td>0.195414</td>\n",
       "      <td>2.927371</td>\n",
       "      <td>5.145890</td>\n",
       "      <td>1.415790</td>\n",
       "    </tr>\n",
       "    <tr>\n",
       "      <th>Portugal</th>\n",
       "      <td>20.390610</td>\n",
       "      <td>14.466792</td>\n",
       "      <td>8.730518</td>\n",
       "      <td>4.733881</td>\n",
       "      <td>11.103926</td>\n",
       "      <td>4.695079</td>\n",
       "      <td>0.155209</td>\n",
       "      <td>3.000711</td>\n",
       "      <td>4.416995</td>\n",
       "      <td>0.821315</td>\n",
       "    </tr>\n",
       "    <tr>\n",
       "      <th>Slovak Rep.</th>\n",
       "      <td>22.663051</td>\n",
       "      <td>15.099187</td>\n",
       "      <td>6.108178</td>\n",
       "      <td>5.651491</td>\n",
       "      <td>7.606679</td>\n",
       "      <td>3.111175</td>\n",
       "      <td>0.285429</td>\n",
       "      <td>2.554588</td>\n",
       "      <td>3.125446</td>\n",
       "      <td>1.541316</td>\n",
       "    </tr>\n",
       "    <tr>\n",
       "      <th>Slovenia</th>\n",
       "      <td>24.945770</td>\n",
       "      <td>13.727921</td>\n",
       "      <td>7.468237</td>\n",
       "      <td>5.113108</td>\n",
       "      <td>11.093895</td>\n",
       "      <td>3.997521</td>\n",
       "      <td>0.154943</td>\n",
       "      <td>2.479083</td>\n",
       "      <td>4.090487</td>\n",
       "      <td>2.169197</td>\n",
       "    </tr>\n",
       "    <tr>\n",
       "      <th>Spain</th>\n",
       "      <td>26.777063</td>\n",
       "      <td>14.070260</td>\n",
       "      <td>5.245117</td>\n",
       "      <td>4.827702</td>\n",
       "      <td>8.816002</td>\n",
       "      <td>5.138478</td>\n",
       "      <td>0.196521</td>\n",
       "      <td>2.953901</td>\n",
       "      <td>6.384632</td>\n",
       "      <td>0.885104</td>\n",
       "    </tr>\n",
       "    <tr>\n",
       "      <th>Sweden</th>\n",
       "      <td>16.053045</td>\n",
       "      <td>12.345140</td>\n",
       "      <td>3.350201</td>\n",
       "      <td>6.962136</td>\n",
       "      <td>20.441459</td>\n",
       "      <td>3.577037</td>\n",
       "      <td>0.157041</td>\n",
       "      <td>3.568313</td>\n",
       "      <td>4.240098</td>\n",
       "      <td>2.748211</td>\n",
       "    </tr>\n",
       "    <tr>\n",
       "      <th>Switzerland</th>\n",
       "      <td>21.607539</td>\n",
       "      <td>10.188470</td>\n",
       "      <td>3.680710</td>\n",
       "      <td>6.241685</td>\n",
       "      <td>14.168514</td>\n",
       "      <td>5.365854</td>\n",
       "      <td>0.000000</td>\n",
       "      <td>3.359202</td>\n",
       "      <td>4.257206</td>\n",
       "      <td>2.372506</td>\n",
       "    </tr>\n",
       "    <tr>\n",
       "      <th>Turkey</th>\n",
       "      <td>38.971658</td>\n",
       "      <td>7.623419</td>\n",
       "      <td>8.846855</td>\n",
       "      <td>5.211386</td>\n",
       "      <td>7.225854</td>\n",
       "      <td>3.723590</td>\n",
       "      <td>0.219276</td>\n",
       "      <td>3.612927</td>\n",
       "      <td>3.397750</td>\n",
       "      <td>0.571756</td>\n",
       "    </tr>\n",
       "    <tr>\n",
       "      <th>United Kingdom</th>\n",
       "      <td>22.803081</td>\n",
       "      <td>10.262614</td>\n",
       "      <td>3.447752</td>\n",
       "      <td>4.946063</td>\n",
       "      <td>12.707596</td>\n",
       "      <td>3.427884</td>\n",
       "      <td>0.191672</td>\n",
       "      <td>3.223356</td>\n",
       "      <td>4.037960</td>\n",
       "      <td>1.521686</td>\n",
       "    </tr>\n",
       "    <tr>\n",
       "      <th>United States</th>\n",
       "      <td>29.141246</td>\n",
       "      <td>9.063132</td>\n",
       "      <td>2.226842</td>\n",
       "      <td>6.211578</td>\n",
       "      <td>9.487245</td>\n",
       "      <td>4.537710</td>\n",
       "      <td>0.237131</td>\n",
       "      <td>4.268031</td>\n",
       "      <td>3.463645</td>\n",
       "      <td>1.993364</td>\n",
       "    </tr>\n",
       "    <tr>\n",
       "      <th>OECD</th>\n",
       "      <td>25.991834</td>\n",
       "      <td>10.696822</td>\n",
       "      <td>6.270034</td>\n",
       "      <td>5.933306</td>\n",
       "      <td>9.235451</td>\n",
       "      <td>5.686093</td>\n",
       "      <td>0.194011</td>\n",
       "      <td>3.432922</td>\n",
       "      <td>3.617678</td>\n",
       "      <td>1.304311</td>\n",
       "    </tr>\n",
       "  </tbody>\n",
       "</table>\n",
       "</div>"
      ],
      "text/plain": [
       "                Trachea-bronchus-lung  Colon, rectum and anus    Stomach  \\\n",
       "MEN                                                                        \n",
       "Australia                   20.493429                9.290024   2.954790   \n",
       "Austria                     22.286929               10.944722   4.584951   \n",
       "Belgium                     30.090706               10.450900   3.253582   \n",
       "Canada                      27.731624               11.443416   3.011842   \n",
       "Chile                       13.304823                8.022491  17.272511   \n",
       "Czech Rep.                  24.875324               13.970344   4.455083   \n",
       "Denmark                     24.311585               12.168196   3.212602   \n",
       "Estonia                     26.371951               10.264228   8.333333   \n",
       "Finland                     23.917887                9.818587   4.169319   \n",
       "France                      25.125758               10.161689   3.360656   \n",
       "Germany                     24.401222               11.177186   4.592273   \n",
       "Greece                      31.667245                8.503992   4.830499   \n",
       "Hungary                     30.412574               16.081953   5.287679   \n",
       "Iceland                     20.322581               13.225806   4.193548   \n",
       "Ireland                     22.957477               12.326804   4.395604   \n",
       "Israel                      21.822897               12.671360   5.446462   \n",
       "Italy                       26.067418               10.900444   6.087111   \n",
       "Japan                       23.990561               11.971776  14.737968   \n",
       "Korea                       26.204210               10.098575  13.107486   \n",
       "Luxembourg                  25.183824               11.948529   4.044118   \n",
       "Mexico                      11.495974                6.910581   8.227151   \n",
       "Netherlands                 27.155154               11.469393   3.543496   \n",
       "New Zealand                 19.773765               13.095497   4.198390   \n",
       "Norway                      21.398230               13.451327   3.203540   \n",
       "Poland                      30.656934               11.920225   6.439067   \n",
       "Portugal                    20.390610               14.466792   8.730518   \n",
       "Slovak Rep.                 22.663051               15.099187   6.108178   \n",
       "Slovenia                    24.945770               13.727921   7.468237   \n",
       "Spain                       26.777063               14.070260   5.245117   \n",
       "Sweden                      16.053045               12.345140   3.350201   \n",
       "Switzerland                 21.607539               10.188470   3.680710   \n",
       "Turkey                      38.971658                7.623419   8.846855   \n",
       "United Kingdom              22.803081               10.262614   3.447752   \n",
       "United States               29.141246                9.063132   2.226842   \n",
       "OECD                        25.991834               10.696822   6.270034   \n",
       "\n",
       "                Pancreas   Prostate      Liver  Hodgkins disease  Leukemia  \\\n",
       "MEN                                                                          \n",
       "Australia       5.033474  13.612695   4.049921          0.157038  3.855691   \n",
       "Austria         6.627842  10.574968   5.666482          0.147902  3.780736   \n",
       "Belgium         5.179440   9.162613   3.450769          0.144604  3.569081   \n",
       "Canada          5.419733   9.739695   3.863702          0.195163  3.789857   \n",
       "Chile           4.165677  16.195454   5.044745          0.221747  3.009424   \n",
       "Czech Rep.      6.742470   9.455416   3.464326          0.279274  3.371235   \n",
       "Denmark         6.375589  14.301662   3.162987          0.210866  3.100968   \n",
       "Estonia         5.436992  13.008130   2.388211          0.101626  3.861789   \n",
       "Finland         7.940802  13.574157   4.232973          0.159134  2.737110   \n",
       "France          5.335729   9.885470   6.466427          0.143723  3.535819   \n",
       "Germany         6.795183  11.012912   4.106844          0.151953  3.609916   \n",
       "Greece          5.229666   9.013074   1.237996          0.792549  3.823904   \n",
       "Hungary         5.293292   6.797642   3.104126          0.117878  2.559641   \n",
       "Iceland         3.870968  17.096774   0.967742          0.645161  2.903226   \n",
       "Ireland         5.805065  12.446249   3.511706          0.238892  3.057812   \n",
       "Israel          8.725454   7.725083   3.501297          0.351982  5.094479   \n",
       "Italy           5.398894   7.628006   6.953407          0.250356  3.660018   \n",
       "Japan           7.315522   5.327754   9.132765          0.051157  2.214981   \n",
       "Korea           5.630408   3.142353  18.281606          0.094701  1.977960   \n",
       "Luxembourg      6.066176   7.720588   6.066176          0.183824  4.779412   \n",
       "Mexico          5.088289  16.321514   7.591468          0.740218  6.260771   \n",
       "Netherlands     5.334906  11.076157   2.127846          0.157295  3.062874   \n",
       "New Zealand     4.763977  12.725691   3.567544          0.195780  4.154884   \n",
       "Norway          6.194690  17.486726   2.566372          0.176991  3.221239   \n",
       "Poland          4.550070   8.201621   2.086327          0.195414  2.927371   \n",
       "Portugal        4.733881  11.103926   4.695079          0.155209  3.000711   \n",
       "Slovak Rep.     5.651491   7.606679   3.111175          0.285429  2.554588   \n",
       "Slovenia        5.113108  11.093895   3.997521          0.154943  2.479083   \n",
       "Spain           4.827702   8.816002   5.138478          0.196521  2.953901   \n",
       "Sweden          6.962136  20.441459   3.577037          0.157041  3.568313   \n",
       "Switzerland     6.241685  14.168514   5.365854          0.000000  3.359202   \n",
       "Turkey          5.211386   7.225854   3.723590          0.219276  3.612927   \n",
       "United Kingdom  4.946063  12.707596   3.427884          0.191672  3.223356   \n",
       "United States   6.211578   9.487245   4.537710          0.237131  4.268031   \n",
       "OECD            5.933306   9.235451   5.686093          0.194011  3.432922   \n",
       "\n",
       "                 Bladder      Skin  \n",
       "MEN                                 \n",
       "Australia       3.107695  4.425986  \n",
       "Austria         3.031984  1.941209  \n",
       "Belgium         4.719337  1.018798  \n",
       "Canada          3.534035  1.537569  \n",
       "Chile           2.162034  0.554368  \n",
       "Czech Rep.      3.557417  1.522708  \n",
       "Denmark         4.366162  2.245100  \n",
       "Estonia         3.506098  1.016260  \n",
       "Finland         2.928071  2.418842  \n",
       "France          4.350999  1.112733  \n",
       "Germany         3.198410  1.467786  \n",
       "Greece          5.582552  0.769409  \n",
       "Hungary         3.575639  1.044064  \n",
       "Iceland         5.806452  0.967742  \n",
       "Ireland         2.866699  1.887243  \n",
       "Israel          4.890700  2.278622  \n",
       "Italy           4.687631  1.131317  \n",
       "Japan           2.426985  0.151168  \n",
       "Korea           1.975808  0.271189  \n",
       "Luxembourg      4.044118  1.838235  \n",
       "Mexico          1.873146  0.802373  \n",
       "Netherlands     3.700791  2.154061  \n",
       "New Zealand     2.740918  5.286056  \n",
       "Norway          4.247788  3.309735  \n",
       "Poland          5.145890  1.415790  \n",
       "Portugal        4.416995  0.821315  \n",
       "Slovak Rep.     3.125446  1.541316  \n",
       "Slovenia        4.090487  2.169197  \n",
       "Spain           6.384632  0.885104  \n",
       "Sweden          4.240098  2.748211  \n",
       "Switzerland     4.257206  2.372506  \n",
       "Turkey          3.397750  0.571756  \n",
       "United Kingdom  4.037960  1.521686  \n",
       "United States   3.463645  1.993364  \n",
       "OECD            3.617678  1.304311  "
      ]
     },
     "execution_count": 2,
     "metadata": {},
     "output_type": "execute_result"
    }
   ],
   "source": [
    "# Load OECD data for cancer in men\n",
    "oecd_df = pd.read_table('Cancer_men_perc.txt', index_col=0)\n",
    "oecd_df"
   ]
  },
  {
   "cell_type": "markdown",
   "metadata": {},
   "source": [
    "Let's have a look at the dimensions of the data frame."
   ]
  },
  {
   "cell_type": "code",
   "execution_count": 3,
   "metadata": {
    "collapsed": false
   },
   "outputs": [
    {
     "data": {
      "text/plain": [
       "(35, 10)"
      ]
     },
     "execution_count": 3,
     "metadata": {},
     "output_type": "execute_result"
    }
   ],
   "source": [
    "np.shape(oecd_df)"
   ]
  },
  {
   "cell_type": "markdown",
   "metadata": {},
   "source": [
    "There are data for 34 countries as well as all of OECD, which results in 35 rows. Furthermore, there are 10 columns where each column represents one type of cancer in men."
   ]
  },
  {
   "cell_type": "markdown",
   "metadata": {},
   "source": [
    "The *nipalsPCA* class in hoggorm accepts only **numpy** arrays with numerical values and not pandas data frames. Therefore, the pandas data frame holding the imported data needs to be \"taken apart\" into three parts: \n",
    "* a numpy array holding the numeric values\n",
    "* a Python list holding variable (column) names\n",
    "* a Python list holding object (row) names. \n",
    "\n",
    "The array with values will be used as input for the *nipalsPCA* class for analysis. The Python lists holding the variable and row names will be used later in the plotting function from the **hoggormPlot** package when visualising the results of the analysis. Below is the code needed to take the data frame apart."
   ]
  },
  {
   "cell_type": "code",
   "execution_count": 4,
   "metadata": {
    "collapsed": true
   },
   "outputs": [],
   "source": [
    "# Get the values from the data frame\n",
    "oecd = oecd_df.values\n",
    "\n",
    "# Get the variable or columns names\n",
    "oecd_varNames = list(oecd_df.columns)\n",
    "\n",
    "# Get the object or row names\n",
    "oecd_objNames = list(oecd_df.index)"
   ]
  },
  {
   "cell_type": "markdown",
   "metadata": {},
   "source": [
    "Let's have a quick look at the column or variable names."
   ]
  },
  {
   "cell_type": "code",
   "execution_count": 5,
   "metadata": {
    "collapsed": false
   },
   "outputs": [
    {
     "data": {
      "text/plain": [
       "['Trachea-bronchus-lung',\n",
       " 'Colon, rectum and anus',\n",
       " 'Stomach',\n",
       " 'Pancreas',\n",
       " 'Prostate',\n",
       " 'Liver',\n",
       " 'Hodgkins disease',\n",
       " 'Leukemia',\n",
       " 'Bladder',\n",
       " 'Skin']"
      ]
     },
     "execution_count": 5,
     "metadata": {},
     "output_type": "execute_result"
    }
   ],
   "source": [
    "oecd_varNames"
   ]
  },
  {
   "cell_type": "markdown",
   "metadata": {},
   "source": [
    "Now show the object or row names."
   ]
  },
  {
   "cell_type": "code",
   "execution_count": 6,
   "metadata": {
    "collapsed": false
   },
   "outputs": [
    {
     "data": {
      "text/plain": [
       "['Australia',\n",
       " 'Austria',\n",
       " 'Belgium',\n",
       " 'Canada',\n",
       " 'Chile',\n",
       " 'Czech Rep.',\n",
       " 'Denmark',\n",
       " 'Estonia',\n",
       " 'Finland',\n",
       " 'France',\n",
       " 'Germany',\n",
       " 'Greece',\n",
       " 'Hungary',\n",
       " 'Iceland',\n",
       " 'Ireland',\n",
       " 'Israel',\n",
       " 'Italy',\n",
       " 'Japan',\n",
       " 'Korea',\n",
       " 'Luxembourg',\n",
       " 'Mexico',\n",
       " 'Netherlands',\n",
       " 'New Zealand',\n",
       " 'Norway',\n",
       " 'Poland',\n",
       " 'Portugal',\n",
       " 'Slovak Rep.',\n",
       " 'Slovenia',\n",
       " 'Spain',\n",
       " 'Sweden',\n",
       " 'Switzerland',\n",
       " 'Turkey',\n",
       " 'United Kingdom',\n",
       " 'United States',\n",
       " 'OECD']"
      ]
     },
     "execution_count": 6,
     "metadata": {},
     "output_type": "execute_result"
    }
   ],
   "source": [
    "oecd_objNames"
   ]
  },
  {
   "cell_type": "markdown",
   "metadata": {},
   "source": [
    "---"
   ]
  },
  {
   "cell_type": "markdown",
   "metadata": {},
   "source": [
    "### Apply PCA to our data"
   ]
  },
  {
   "cell_type": "markdown",
   "metadata": {},
   "source": [
    "Now, let's run PCA on the data using the *nipalsPCA* class. Using input paramter *arrX* we define which numpy array we would like to analyse. By setting input parameter *Xstand=False* we make sure that the variables are not scaled to unit variance. This is the default setting and actually doesn't need to expressed explicitly. Setting paramter *cvType=[\"loo\"]* we make sure that we compute the PCA model using full cross validation. *\"loo\"* means \"Leave One Out\". By setting paramter *numpComp=4* we ask the four principal components (PC) to be computed."
   ]
  },
  {
   "cell_type": "code",
   "execution_count": 7,
   "metadata": {
    "collapsed": false
   },
   "outputs": [
    {
     "name": "stdout",
     "output_type": "stream",
     "text": [
      "loo\n"
     ]
    }
   ],
   "source": [
    "model_01 = ho.nipalsPCA(arrX=oecd, Xstand=False, cvType=[\"loo\"], numComp=4)"
   ]
  },
  {
   "cell_type": "markdown",
   "metadata": {},
   "source": [
    "That's it, the PCA model has been computed. Now we would like to inspect the results by visualising them. We can do this using the taylor-made plotting function for PCA from the separate **hoggormPlot** package. If we wish to plot the results for component 1 and component 2, we can do this by setting the input argument *pc=[1, 2]*. The input argument *plots=[1, 2, 3, 4]* lets the user define which plots are to be plotted. If this list for example contains value *1*, the function will generate the scores plot for the model. If the list contains value 2, then the loadings plot will be plotted. Value 3 stands for correlation loadings plot and value 4 stand for explaind variance plot."
   ]
  },
  {
   "cell_type": "code",
   "execution_count": 8,
   "metadata": {
    "collapsed": false
   },
   "outputs": [
    {
     "name": "stdout",
     "output_type": "stream",
     "text": [
      "1\n"
     ]
    },
    {
     "data": {
      "image/png": "[encoded data removed]",
      "text/plain": [
       "<matplotlib.figure.Figure at 0x1a2f9217b38>"
      ]
     },
     "metadata": {},
     "output_type": "display_data"
    },
    {
     "name": "stdout",
     "output_type": "stream",
     "text": [
      "2\n"
     ]
    },
    {
     "data": {
      "image/png": "[encoded data removed]",
      "text/plain": [
       "<matplotlib.figure.Figure at 0x1a2f9351be0>"
      ]
     },
     "metadata": {},
     "output_type": "display_data"
    },
    {
     "name": "stdout",
     "output_type": "stream",
     "text": [
      "3\n"
     ]
    },
    {
     "data": {
      "image/png": "[encoded data removed]",
      "text/plain": [
       "<matplotlib.figure.Figure at 0x1a2fa3a52b0>"
      ]
     },
     "metadata": {},
     "output_type": "display_data"
    },
    {
     "name": "stdout",
     "output_type": "stream",
     "text": [
      "4\n"
     ]
    },
    {
     "data": {
      "image/png": "[encoded data removed]",
      "text/plain": [
       "<matplotlib.figure.Figure at 0x1a2fa4a5f28>"
      ]
     },
     "metadata": {},
     "output_type": "display_data"
    }
   ],
   "source": [
    "hop.plotPCA(model_01, pc=[1, 2], plots=[1, 2, 3, 4], \n",
    "            objNames=oecd_objNames, \n",
    "            varNames=oecd_varNames)"
   ]
  },
  {
   "cell_type": "markdown",
   "metadata": {
    "collapsed": true
   },
   "source": [
    "---"
   ]
  },
  {
   "cell_type": "markdown",
   "metadata": {
    "collapsed": true
   },
   "source": [
    "### Accessing numerical results"
   ]
  },
  {
   "cell_type": "markdown",
   "metadata": {},
   "source": [
    "Before we access numerical results from the PCA, let's have a look which methods are available."
   ]
  },
  {
   "cell_type": "code",
   "execution_count": 9,
   "metadata": {
    "collapsed": false
   },
   "outputs": [
    {
     "name": "stdout",
     "output_type": "stream",
     "text": [
      "Help on class nipalsPCA in module hoggorm.pca:\n",
      "\n",
      "class nipalsPCA(builtins.object)\n",
      " |  This class carries out Principal Component Analysis using the\n",
      " |  NIPALS algorithm.\n",
      " |  \n",
      " |  \n",
      " |  PARAMETERS\n",
      " |  ----------\n",
      " |  arrX : numpy array\n",
      " |      A numpy array containg the data \n",
      " |  numComp : int, optional\n",
      " |      An integer that defines how many components are to be computed\n",
      " |  Xstand : boolean, optional \n",
      " |      False : columns of arrX are mean centred (default)\n",
      " |      True : columns of arrX are mean centred and devided by their own \n",
      " |          standard deviation\n",
      " |  cvType : list\n",
      " |      The list defines cross validation settings when computing the\n",
      " |      PCA model. Choose cross validation type from the following:\n",
      " |      \n",
      " |      loo : leave one out / a.k.a. full cross validation (default)\n",
      " |      cvType = [\"loo\"]\n",
      " |      \n",
      " |      KFold : leave out one fold or segment\n",
      " |      cvType = [\"KFold\", numFolds]\n",
      " |          numFolds: int \n",
      " |          number of folds or segments \n",
      " |  \n",
      " |          \n",
      " |  RETURNS\n",
      " |  -------\n",
      " |  Returns the PCA model. Use the attributes of class nipalsPCA to access    \n",
      " |  computational results of PCA model.\n",
      " |  \n",
      " |  \n",
      " |  EXAMPLES\n",
      " |  --------\n",
      " |  >>> import hoggorm as ho\n",
      " |  \n",
      " |  >>> myData\n",
      " |  array([[ 5.7291665,  3.416667 ,  3.175    ,  2.6166668,  6.2208333],\n",
      " |         [ 6.0749993,  2.7416666,  3.6333339,  3.3833334,  6.1708336],\n",
      " |         [ 6.1166663,  3.4916666,  3.5208333,  2.7125003,  6.1625004],\n",
      " |         ..., \n",
      " |         [ 6.3333335,  2.3166668,  4.1249995,  4.3541665,  6.7500005],\n",
      " |         [ 5.8250003,  4.8291669,  1.4958333,  1.0958334,  6.0999999],\n",
      " |         [ 5.6499996,  4.6624999,  1.9291668,  1.0749999,  6.0249996]])\n",
      " |  >>> np.shape(myData)\n",
      " |  (14, 5)\n",
      " |  \n",
      " |  >>> model = ho.nipalsPCA(arrX=myData, numComp=5, Xstand=False)\n",
      " |  >>> model = ho.nipalsPCA(arrX=myData)\n",
      " |  >>> model = ho.nipalsPCA(arrX=myData, numComp=3)\n",
      " |  >>> model = ho.nipalsPCA(arrX=myData, Xstand=True)\n",
      " |  >>> model = ho.nipalsPCA(arrX=myData, cvType=[\"loo\"])\n",
      " |  >>> model = ho.nipalsPCA(arrX=myData, cvType=[\"lpo\", 4])\n",
      " |  \n",
      " |  Methods defined here:\n",
      " |  \n",
      " |  X_MSECV(self)\n",
      " |      Returns an array holding MSECV across all variables in X acquired \n",
      " |      through cross validation after each computed component. First row is \n",
      " |      MSECV for zero components, second row for component 1, third row for \n",
      " |      component 2, etc.\n",
      " |  \n",
      " |  X_MSECV_indVar(self)\n",
      " |      Returns an arrary holding MSECV for each variable in X acquired through  \n",
      " |      cross validation. First row is MSECV for zero components, second row \n",
      " |      for component 1, etc.\n",
      " |  \n",
      " |  X_MSEE(self)\n",
      " |      Returns an array holding MSEE across all variables in X acquired \n",
      " |      through calibration after each computed component. First row is MSEE \n",
      " |      for zero components, second row for component 1, third row for \n",
      " |      component 2, etc.\n",
      " |  \n",
      " |  X_MSEE_indVar(self)\n",
      " |      Returns an array holding MSEE for each variable in array X acquired \n",
      " |      through calibration after each computed component. First row holds MSEE \n",
      " |      for zero components, second row for component 1, third row for \n",
      " |      component 2, etc.\n",
      " |  \n",
      " |  X_PRESSCV(self)\n",
      " |      Returns an array holding PRESSCV across all variables in X acquired  \n",
      " |      through cross validation after each computed component. First row is \n",
      " |      PRESSEV for zero components, second row for component 1, third row for \n",
      " |      component 2, etc.\n",
      " |  \n",
      " |  X_PRESSCV_indVar(self)\n",
      " |      Returns array holding PRESSEV for each individual variable in X \n",
      " |      acquired through cross validation after each computed component. First \n",
      " |      row is PRESSCV for zero components, second row for component 1, third \n",
      " |      row for component 2, etc.\n",
      " |  \n",
      " |  X_PRESSE(self)\n",
      " |      Returns array holding PRESSE across all variables in X acquired  \n",
      " |      through calibration after each computed component. First row is PRESSE \n",
      " |      for zero components, second row for component 1, third row for \n",
      " |      component 2, etc.\n",
      " |  \n",
      " |  X_PRESSE_indVar(self)\n",
      " |      Returns array holding PRESSE for each individual variable in X\n",
      " |      acquired through calibration after each computed component. First row \n",
      " |      is PRESSE for zero components, second row for component 1, third row \n",
      " |      for component 2, etc.\n",
      " |  \n",
      " |  X_RMSECV(self)\n",
      " |      Returns an array holding RMSECV across all variables in X acquired \n",
      " |      through cross validation after each computed component. First row is \n",
      " |      RMSECV for zero components, second row for component 1, third row for \n",
      " |      component 2, etc.\n",
      " |  \n",
      " |  X_RMSECV_indVar(self)\n",
      " |      Returns an arrary holding RMSECV for each variable in X acquired \n",
      " |      through cross validation after each computed component. First row is \n",
      " |      RMSECV for zero components, second row for component 1, third row for \n",
      " |      component 2, etc.\n",
      " |  \n",
      " |  X_RMSEE(self)\n",
      " |      Returns an array holding RMSEE across all variables in X acquired \n",
      " |      through calibration after each computed component. First row is RMSEE \n",
      " |      for zero components, second row for component 1, third row for \n",
      " |      component 2, etc.\n",
      " |  \n",
      " |  X_RMSEE_indVar(self)\n",
      " |      Returns an array holding RMSEE for each variable in array X acquired \n",
      " |      through calibration after each components. First row holds RMSEE \n",
      " |      for zero components, second row for component 1, third row for \n",
      " |      component 2, etc.\n",
      " |  \n",
      " |  X_calExplVar(self)\n",
      " |      Returns a list holding the calibrated explained variance for \n",
      " |      each component. First number in list is for component 1, second number \n",
      " |      for component 2, etc.\n",
      " |  \n",
      " |  X_corrLoadings(self)\n",
      " |      Returns array holding correlation loadings of array X. First column \n",
      " |      holds correlation loadings for component 1, second column holds \n",
      " |      correlation loadings for component 2, etc.\n",
      " |  \n",
      " |  X_cumCalExplVar(self)\n",
      " |      Returns a list holding the cumulative validated explained variance \n",
      " |      for array X after each component. First number represents zero \n",
      " |      components, second number represents component 1, etc.\n",
      " |  \n",
      " |  X_cumCalExplVar_indVar(self)\n",
      " |      Returns an array holding the cumulative calibrated explained variance\n",
      " |      for each variable in X after each component. First row represents zero\n",
      " |      components, second row represents one component, third row represents \n",
      " |      two components, etc. Columns represent variables.\n",
      " |  \n",
      " |  X_cumValExplVar(self)\n",
      " |      Returns a list holding the cumulative validated explained variance \n",
      " |      for array X after each component.\n",
      " |  \n",
      " |  X_cumValExplVar_indVar(self)\n",
      " |      Returns an array holding the cumulative validated explained variance\n",
      " |      for each variable in X after each component. First row represents \n",
      " |      zero components, second row represents component 1, third row for \n",
      " |      compnent 2, etc. Columns represent variables.\n",
      " |  \n",
      " |  X_loadings(self)\n",
      " |      Returns array holding loadings P of array X. Rows represent variables\n",
      " |      and columns represent components. First column holds loadings for \n",
      " |      component 1, second column holds scores for component 2, etc.\n",
      " |  \n",
      " |  X_means(self)\n",
      " |      Returns array holding the column means of input array X.\n",
      " |  \n",
      " |  X_predCal(self)\n",
      " |      Returns a dictionary holding the predicted arrays Xhat from \n",
      " |      calibration after each computed component. Dictionary key represents \n",
      " |      order of component.\n",
      " |  \n",
      " |  X_predVal(self)\n",
      " |      Returns a dictionary holding the predicted arrays Xhat from \n",
      " |      validation after each computed component. Dictionary key represents \n",
      " |      order of component.\n",
      " |  \n",
      " |  X_residuals(self)\n",
      " |      Returns a dictionary holding arrays of residuals for array X after \n",
      " |      each computed component. Dictionary key represents order of component.\n",
      " |  \n",
      " |  X_scores(self)\n",
      " |      Returns array holding scores T. First column holds scores for \n",
      " |      component 1, second column holds scores for component 2, etc.\n",
      " |  \n",
      " |  X_scores_predict(self, Xnew, numComp=1)\n",
      " |      Returns array of X scores from new X data using the exsisting model. \n",
      " |      Rows represent objects and columns represent components.\n",
      " |  \n",
      " |  X_valExplVar(self)\n",
      " |      Returns a list holding the validated explained variance for X after\n",
      " |      each component. First number in list is for component 1, second number \n",
      " |      for component 2, third number for component 3, etc.\n",
      " |  \n",
      " |  __init__(self, arrX, **kargs)\n",
      " |      On initialisation check how arrX and arrY are to be pre-processed \n",
      " |      (Xstand and Ystand are either True or False). Then check whether \n",
      " |      number of components chosen by user is OK.\n",
      " |  \n",
      " |  corrLoadingsEllipses(self)\n",
      " |      Returns a dictionary hodling coordinates of ellipses that represent \n",
      " |      50% and 100% expl. variance in correlation loadings plot. The \n",
      " |      coordinates are stored in arrays.\n",
      " |  \n",
      " |  cvTrainAndTestData(self)\n",
      " |      Returns a list consisting of dictionaries holding training and test\n",
      " |      sets.\n",
      " |  \n",
      " |  modelSettings(self)\n",
      " |      Returns a dictionary holding the settings under which NIPALS PCA was\n",
      " |      run.\n",
      " |  \n",
      " |  ----------------------------------------------------------------------\n",
      " |  Data descriptors defined here:\n",
      " |  \n",
      " |  __dict__\n",
      " |      dictionary for instance variables (if defined)\n",
      " |  \n",
      " |  __weakref__\n",
      " |      list of weak references to the object (if defined)\n",
      "\n"
     ]
    }
   ],
   "source": [
    "help(ho.nipalsPCA)"
   ]
  },
  {
   "cell_type": "markdown",
   "metadata": {
    "collapsed": true
   },
   "source": [
    "Now that we have visualised the PCA results, we may want to access the numerical results."
   ]
  },
  {
   "cell_type": "code",
   "execution_count": 10,
   "metadata": {
    "collapsed": false
   },
   "outputs": [
    {
     "data": {
      "text/plain": [
       "array([[ -4.80427678e+00,   2.31026292e+00,  -3.20919441e-01,\n",
       "          2.83588493e+00],\n",
       "       [ -1.49101340e+00,  -5.21756056e-01,  -1.66910340e+00,\n",
       "          1.55857749e+00],\n",
       "       [  5.93045947e+00,   2.93009762e+00,   7.58349229e-01,\n",
       "          1.19912489e+00],\n",
       "       [  3.58065788e+00,   2.56020599e+00,  -5.93118157e-01,\n",
       "          1.02747146e+00],\n",
       "       [ -1.23821509e+01,  -9.44183584e+00,   6.72770500e+00,\n",
       "         -3.07035611e+00],\n",
       "       [  1.31977343e+00,   1.31551500e+00,  -2.35029918e+00,\n",
       "         -1.66861113e+00],\n",
       "       [ -1.71177213e+00,   3.91420893e+00,   7.67223251e-02,\n",
       "          2.51714334e-01],\n",
       "       [  5.24114730e-01,   4.35026626e-01,   4.30867677e+00,\n",
       "         -1.26284394e+00],\n",
       "       [ -1.74121029e+00,   1.88616974e+00,   8.30626232e-01,\n",
       "          2.08534936e+00],\n",
       "       [  1.43529718e+00,   2.32769848e-01,  -1.27538454e+00,\n",
       "          2.79220995e+00],\n",
       "       [  5.70559866e-02,   9.64567418e-01,  -3.88892733e-01,\n",
       "          6.58497656e-01],\n",
       "       [  7.22650139e+00,   3.29031331e+00,   3.78499019e+00,\n",
       "          6.07413860e-01],\n",
       "       [  7.45251398e+00,   1.39299599e+00,  -2.18798345e+00,\n",
       "         -3.92823346e+00],\n",
       "       [ -6.50012439e+00,   4.71951396e+00,   1.19949351e+00,\n",
       "         -2.49519542e+00],\n",
       "       [ -1.93723325e+00,   1.72973425e+00,  -6.39800927e-01,\n",
       "         -3.76054491e-01],\n",
       "       [ -4.50615167e-01,  -4.95133827e-01,  -3.28653856e+00,\n",
       "         -1.17220809e+00],\n",
       "       [  3.37804784e+00,  -2.35709892e+00,  -1.22530575e+00,\n",
       "          1.10529994e+00],\n",
       "       [  2.71198332e+00,  -1.11012076e+01,  -2.10161304e-02,\n",
       "         -2.76562733e+00],\n",
       "       [  6.05511826e+00,  -1.56707782e+01,  -2.85699759e+00,\n",
       "          3.79074545e+00],\n",
       "       [  2.51349543e+00,  -4.81077441e-01,  -2.92528450e+00,\n",
       "          1.23847797e+00],\n",
       "       [ -1.37966121e+01,  -5.09287210e+00,   1.37112393e+00,\n",
       "          3.85165934e+00],\n",
       "       [  2.30770566e+00,   3.59376378e+00,   5.71465410e-01,\n",
       "         -1.49753461e-01],\n",
       "       [ -5.02079723e+00,   1.73115119e+00,  -2.32588116e+00,\n",
       "         -5.23972324e-01],\n",
       "       [ -5.92693888e+00,   4.98612786e+00,  -1.87847137e-02,\n",
       "         -6.72933391e-01],\n",
       "       [  6.81270652e+00,   1.55439937e+00,   1.74900456e+00,\n",
       "         -2.22386130e+00],\n",
       "       [ -3.31372581e+00,  -2.64185312e+00,  -1.21183852e+00,\n",
       "         -3.82095339e+00],\n",
       "       [  3.88879424e-01,  -7.24607323e-01,  -3.41184644e+00,\n",
       "         -3.82732911e+00],\n",
       "       [  4.59486510e-01,  -3.47167501e-01,   2.19938506e-05,\n",
       "         -2.79829671e+00],\n",
       "       [  3.47163207e+00,   3.19984597e-01,  -1.97170801e+00,\n",
       "         -1.78948608e+00],\n",
       "       [ -1.19577367e+01,   3.99066878e+00,  -4.35796047e-02,\n",
       "          6.08509809e-01],\n",
       "       [ -3.91339530e+00,   1.49990354e+00,  -2.26503291e-01,\n",
       "          2.41277780e+00],\n",
       "       [  1.42364266e+01,  -2.44792099e-01,   7.01595811e+00,\n",
       "          9.57182429e-01],\n",
       "       [ -2.14966672e+00,   2.37341951e+00,   2.62542805e-01,\n",
       "          1.22474440e+00],\n",
       "       [  4.86529098e+00,   2.75117800e+00,   2.72190313e-01,\n",
       "          3.57126819e+00],\n",
       "       [  2.37012252e+00,  -1.36179816e+00,   2.19157123e-02,\n",
       "          7.68806450e-01]])"
      ]
     },
     "execution_count": 10,
     "metadata": {},
     "output_type": "execute_result"
    }
   ],
   "source": [
    "# Get the scores\n",
    "model_01.X_scores()"
   ]
  },
  {
   "cell_type": "code",
   "execution_count": 11,
   "metadata": {
    "collapsed": false
   },
   "outputs": [
    {
     "name": "stdout",
     "output_type": "stream",
     "text": [
      "Help on function X_scores in module hoggorm.pca:\n",
      "\n",
      "X_scores(self)\n",
      "    Returns array holding scores T. First column holds scores for \n",
      "    component 1, second column holds scores for component 2, etc.\n",
      "\n"
     ]
    }
   ],
   "source": [
    "help(ho.nipalsPCA.X_scores)"
   ]
  },
  {
   "cell_type": "code",
   "execution_count": 12,
   "metadata": {
    "collapsed": false
   },
   "outputs": [
    {
     "data": {
      "text/plain": [
       "(35, 4)"
      ]
     },
     "execution_count": 12,
     "metadata": {},
     "output_type": "execute_result"
    }
   ],
   "source": [
    "# Dimension of the scores\n",
    "np.shape(model_01.X_scores())"
   ]
  },
  {
   "cell_type": "markdown",
   "metadata": {},
   "source": [
    "We see that the numpy array holds the scores for all countries and OECD (35 in total) for four components as required when computing the PCA model."
   ]
  },
  {
   "cell_type": "code",
   "execution_count": 13,
   "metadata": {
    "collapsed": false
   },
   "outputs": [
    {
     "data": {
      "text/plain": [
       "array([[  8.45198737e-01,   2.24592716e-01,   3.14566109e-01,\n",
       "          4.63885066e-02],\n",
       "       [  1.56597464e-02,   1.06296269e-01,  -5.50679115e-01,\n",
       "         -6.68952998e-01],\n",
       "       [ -2.79414066e-02,  -6.80375913e-01,   4.98525658e-01,\n",
       "         -4.71499433e-01],\n",
       "       [  1.79916561e-03,  -6.25950704e-04,  -1.41296825e-01,\n",
       "          8.42078730e-02],\n",
       "       [ -5.25512612e-01,   3.54901591e-01,   4.53069739e-01,\n",
       "          8.63093768e-02],\n",
       "       [  3.58955611e-02,  -5.62988428e-01,  -3.27116872e-01,\n",
       "          5.18503886e-01],\n",
       "       [ -5.20810301e-03,   5.02005702e-03,   1.50708898e-02,\n",
       "          3.08297776e-03],\n",
       "       [ -3.60678488e-02,   3.49014971e-02,   1.00280298e-02,\n",
       "          1.65016000e-01],\n",
       "       [  4.09516231e-02,   1.28913530e-01,  -2.37810362e-02,\n",
       "         -1.07264378e-01],\n",
       "       [ -6.44427071e-02,   1.20724135e-01,  -1.27032215e-01,\n",
       "          7.68524051e-02]])"
      ]
     },
     "execution_count": 13,
     "metadata": {},
     "output_type": "execute_result"
    }
   ],
   "source": [
    "# Get the loadings\n",
    "model_01.X_loadings()"
   ]
  },
  {
   "cell_type": "code",
   "execution_count": 14,
   "metadata": {
    "collapsed": false
   },
   "outputs": [
    {
     "name": "stdout",
     "output_type": "stream",
     "text": [
      "Help on function X_loadings in module hoggorm.pca:\n",
      "\n",
      "X_loadings(self)\n",
      "    Returns array holding loadings P of array X. Rows represent variables\n",
      "    and columns represent components. First column holds loadings for \n",
      "    component 1, second column holds scores for component 2, etc.\n",
      "\n"
     ]
    }
   ],
   "source": [
    "help(ho.nipalsPCA.X_loadings)"
   ]
  },
  {
   "cell_type": "code",
   "execution_count": 15,
   "metadata": {
    "collapsed": false
   },
   "outputs": [
    {
     "data": {
      "text/plain": [
       "(10, 4)"
      ]
     },
     "execution_count": 15,
     "metadata": {},
     "output_type": "execute_result"
    }
   ],
   "source": [
    "np.shape(model_01.X_loadings())"
   ]
  },
  {
   "cell_type": "markdown",
   "metadata": {
    "collapsed": true
   },
   "source": [
    "Here we see that the array holds the loadings for the 10 variables in the data for four components."
   ]
  },
  {
   "cell_type": "code",
   "execution_count": 16,
   "metadata": {
    "collapsed": false
   },
   "outputs": [
    {
     "data": {
      "text/plain": [
       "array([[ 0.96590825,  0.19174566,  0.14944111,  0.02020909],\n",
       "       [ 0.04304787,  0.21829825, -0.62928898, -0.70106191],\n",
       "       [-0.04823982, -0.87757465,  0.35780791, -0.31034942],\n",
       "       [ 0.01031342, -0.00268016, -0.33670313,  0.1840269 ],\n",
       "       [-0.82930719,  0.41840778,  0.29721968,  0.05192225],\n",
       "       [ 0.07163876, -0.83936869, -0.2713827 ,  0.39449121],\n",
       "       [-0.18071251,  0.1301294 ,  0.2173842 ,  0.04078276],\n",
       "       [-0.25837044,  0.18677795,  0.02985895,  0.45065188],\n",
       "       [ 0.23009359,  0.54111848, -0.05554476, -0.22976405],\n",
       "       [-0.35215384,  0.49284545, -0.28857294,  0.16010685]])"
      ]
     },
     "execution_count": 16,
     "metadata": {},
     "output_type": "execute_result"
    }
   ],
   "source": [
    "# Get correlation loadings\n",
    "model_01.X_corrLoadings()"
   ]
  },
  {
   "cell_type": "code",
   "execution_count": 17,
   "metadata": {
    "collapsed": false
   },
   "outputs": [
    {
     "name": "stdout",
     "output_type": "stream",
     "text": [
      "Help on function X_corrLoadings in module hoggorm.pca:\n",
      "\n",
      "X_corrLoadings(self)\n",
      "    Returns array holding correlation loadings of array X. First column \n",
      "    holds correlation loadings for component 1, second column holds \n",
      "    correlation loadings for component 2, etc.\n",
      "\n"
     ]
    }
   ],
   "source": [
    "help(ho.nipalsPCA.X_corrLoadings)"
   ]
  },
  {
   "cell_type": "code",
   "execution_count": 18,
   "metadata": {
    "collapsed": false
   },
   "outputs": [
    {
     "data": {
      "text/plain": [
       "[49.949783303916398,\n",
       " 27.877278836171719,\n",
       " 8.6317269924905844,\n",
       " 7.2596158501234243]"
      ]
     },
     "execution_count": 18,
     "metadata": {},
     "output_type": "execute_result"
    }
   ],
   "source": [
    "# Get calibrated explained variance\n",
    "model_01.X_calExplVar()"
   ]
  },
  {
   "cell_type": "code",
   "execution_count": 19,
   "metadata": {
    "collapsed": false
   },
   "outputs": [
    {
     "name": "stdout",
     "output_type": "stream",
     "text": [
      "Help on function X_calExplVar in module hoggorm.pca:\n",
      "\n",
      "X_calExplVar(self)\n",
      "    Returns a list holding the calibrated explained variance for \n",
      "    each component. First number in list is for component 1, second number \n",
      "    for component 2, etc.\n",
      "\n"
     ]
    }
   ],
   "source": [
    "help(ho.nipalsPCA.X_calExplVar)"
   ]
  },
  {
   "cell_type": "code",
   "execution_count": 20,
   "metadata": {
    "collapsed": false
   },
   "outputs": [
    {
     "data": {
      "text/plain": [
       "[0.0,\n",
       " 49.949783303916398,\n",
       " 77.827062140088117,\n",
       " 86.458789132578701,\n",
       " 93.718404982702125]"
      ]
     },
     "execution_count": 20,
     "metadata": {},
     "output_type": "execute_result"
    }
   ],
   "source": [
    "# Get cumulative calibrated explained variance\n",
    "model_01.X_cumCalExplVar()"
   ]
  },
  {
   "cell_type": "code",
   "execution_count": 21,
   "metadata": {
    "collapsed": false
   },
   "outputs": [
    {
     "name": "stdout",
     "output_type": "stream",
     "text": [
      "Help on function X_cumCalExplVar in module hoggorm.pca:\n",
      "\n",
      "X_cumCalExplVar(self)\n",
      "    Returns a list holding the cumulative validated explained variance \n",
      "    for array X after each component. First number represents zero \n",
      "    components, second number represents component 1, etc.\n",
      "\n"
     ]
    }
   ],
   "source": [
    "help(ho.nipalsPCA.X_cumCalExplVar)"
   ]
  },
  {
   "cell_type": "code",
   "execution_count": 22,
   "metadata": {
    "collapsed": false
   },
   "outputs": [
    {
     "data": {
      "text/plain": [
       "array([[  0.00000000e+00,   0.00000000e+00,   0.00000000e+00,\n",
       "          0.00000000e+00,   0.00000000e+00,   0.00000000e+00,\n",
       "          0.00000000e+00,   0.00000000e+00,   0.00000000e+00,\n",
       "          0.00000000e+00],\n",
       "       [  9.32978743e+01,   1.85311950e-01,   2.32708059e-01,\n",
       "          1.06366595e-02,   6.87750417e+01,   5.13211219e-01,\n",
       "          3.26570125e+00,   6.67552835e+00,   5.29430579e+00,\n",
       "          1.24012324e+01],\n",
       "       [  9.69746038e+01,   4.95072903e+00,   7.72464544e+01,\n",
       "          1.13549729e-02,   8.62813810e+01,   7.09671614e+01,\n",
       "          4.95905586e+00,   1.01641051e+01,   3.45752874e+01,\n",
       "          3.66908124e+01],\n",
       "       [  9.92078762e+01,   4.45511544e+01,   9.00490200e+01,\n",
       "          1.13482547e+01,   9.51153681e+01,   7.83320797e+01,\n",
       "          9.68465258e+00,   1.02532623e+01,   3.48838013e+01,\n",
       "          4.50182083e+01],\n",
       "       [  9.92487208e+01,   9.37004893e+01,   9.96805579e+01,\n",
       "          1.47347667e+01,   9.53849797e+01,   9.38942741e+01,\n",
       "          9.85098714e+00,   3.05619915e+01,   4.01629685e+01,\n",
       "          4.75815709e+01]])"
      ]
     },
     "execution_count": 22,
     "metadata": {},
     "output_type": "execute_result"
    }
   ],
   "source": [
    "# Get cumulative calibrated explained variance for each variable\n",
    "model_01.X_cumCalExplVar_indVar()"
   ]
  },
  {
   "cell_type": "code",
   "execution_count": 23,
   "metadata": {
    "collapsed": false
   },
   "outputs": [
    {
     "name": "stdout",
     "output_type": "stream",
     "text": [
      "Help on function X_cumCalExplVar_indVar in module hoggorm.pca:\n",
      "\n",
      "X_cumCalExplVar_indVar(self)\n",
      "    Returns an array holding the cumulative calibrated explained variance\n",
      "    for each variable in X after each component. First row represents zero\n",
      "    components, second row represents one component, third row represents \n",
      "    two components, etc. Columns represent variables.\n",
      "\n"
     ]
    }
   ],
   "source": [
    "help(ho.nipalsPCA.X_cumCalExplVar_indVar)"
   ]
  },
  {
   "cell_type": "code",
   "execution_count": 24,
   "metadata": {
    "collapsed": false
   },
   "outputs": [
    {
     "data": {
      "text/plain": [
       "array([[ 20.26414506,  11.34853202,   5.91473839,   5.71000324,\n",
       "         13.52810877,   4.3948102 ,   0.25063427,   3.61251511,\n",
       "          3.60495005,   1.98094717],\n",
       "       [ 23.06451108,  11.40041688,   5.82216115,   5.71596435,\n",
       "         11.78694707,   4.51374165,   0.23337845,   3.49301283,\n",
       "          3.74063356,   1.76743151],\n",
       "       [ 29.33713058,  11.51663527,   5.61479476,   5.72931681,\n",
       "          7.88686948,   4.78013958,   0.19472666,   3.22533627,\n",
       "          4.04455492,   1.28917171],\n",
       "       [ 27.35108125,  11.47983797,   5.68045152,   5.72508913,\n",
       "          9.12171985,   4.69579213,   0.20696466,   3.31008856,\n",
       "          3.94832673,   1.44059929],\n",
       "       [ 13.85933539,  11.22986443,   6.12647485,   5.69636939,\n",
       "         17.51037721,   4.12279815,   0.29010062,   3.88583273,\n",
       "          3.2946238 ,   2.4692859 ],\n",
       "       [ 25.44018457,  11.44443309,   5.74362381,   5.72102142,\n",
       "         10.30984314,   4.61463642,   0.21873958,   3.3916338 ,\n",
       "          3.85573985,   1.5862968 ],\n",
       "       [ 22.87792608,  11.39695986,   5.82832946,   5.71556717,\n",
       "         11.90295857,   4.50581739,   0.23452819,   3.50097512,\n",
       "          3.73159313,   1.7816578 ],\n",
       "       [ 24.76769484,  11.43197328,   5.76585564,   5.7195899 ,\n",
       "         10.72797183,   4.5860758 ,   0.22288346,   3.42033149,\n",
       "          3.82315633,   1.6375712 ],\n",
       "       [ 22.85304499,  11.39649886,   5.829152  ,   5.71551421,\n",
       "         11.91842869,   4.50476069,   0.2346815 ,   3.50203689,\n",
       "          3.73038759,   1.78355488],\n",
       "       [ 25.53782509,  11.44624216,   5.74039592,   5.72122927,\n",
       "         10.24913395,   4.61878321,   0.21813792,   3.3874671 ,\n",
       "          3.86047073,   1.57885214],\n",
       "       [ 24.37293738,  11.42465926,   5.77890592,   5.71874959,\n",
       "         10.97341709,   4.56931047,   0.22531595,   3.4371773 ,\n",
       "          3.80402952,   1.66766973],\n",
       "       [ 30.43254357,  11.53693095,   5.57858153,   5.73164861,\n",
       "          7.2057831 ,   4.82666173,   0.18797674,   3.17859083,\n",
       "          4.09762994,   1.20565126],\n",
       "       [ 30.62356913,  11.54047025,   5.57226642,   5.73205524,\n",
       "          7.08701064,   4.83477458,   0.18679964,   3.17043904,\n",
       "          4.10688552,   1.1910864 ],\n",
       "       [ 18.83081681,  11.32197547,   5.96212276,   5.70695213,\n",
       "         14.41929807,   4.3339368 ,   0.25946642,   3.67368069,\n",
       "          3.53550234,   2.09023218],\n",
       "       [ 22.68736663,  11.39342919,   5.83462916,   5.71516153,\n",
       "         12.02144123,   4.49772434,   0.23570241,   3.50910702,\n",
       "          3.72236014,   1.79618713],\n",
       "       [ 23.94385436,  11.41670925,   5.79309096,   5.7178362 ,\n",
       "         11.24020468,   4.55108733,   0.22795995,   3.4554879 ,\n",
       "          3.78323956,   1.70038543],\n",
       "       [ 27.17983549,  11.47666515,   5.68611273,   5.7247246 ,\n",
       "          9.22819398,   4.68851933,   0.20801988,   3.31739627,\n",
       "          3.94002952,   1.45365603],\n",
       "       [ 26.6168786 ,  11.46623474,   5.70472351,   5.72352624,\n",
       "          9.57821929,   4.66461057,   0.21148881,   3.34141978,\n",
       "          3.9127531 ,   1.49657903],\n",
       "       [ 29.44249203,  11.51858739,   5.61131162,   5.72954109,\n",
       "          7.82135971,   4.78461428,   0.19407742,   3.2208401 ,\n",
       "          4.0496599 ,   1.28113836],\n",
       "       [ 26.44911689,  11.46312647,   5.71026954,   5.72316913,\n",
       "          9.68252718,   4.65748574,   0.21252256,   3.34857881,\n",
       "          3.9046247 ,   1.50937012],\n",
       "       [ 12.66383458,  11.20771433,   6.16599689,   5.69382454,\n",
       "         18.2536944 ,   4.07202528,   0.29746728,   3.9368493 ,\n",
       "          3.23669932,   2.56043761],\n",
       "       [ 26.27518364,  11.45990386,   5.7160196 ,   5.72279888,\n",
       "          9.7906723 ,   4.6500988 ,   0.21359433,   3.35600121,\n",
       "          3.89619727,   1.52263177],\n",
       "       [ 20.08114225,  11.34514136,   5.92078828,   5.70961369,\n",
       "         13.64189299,   4.38703808,   0.25176193,   3.62032454,\n",
       "          3.59608319,   1.99490034],\n",
       "       [ 19.31527247,  11.33095141,   5.94610715,   5.70798339,\n",
       "         14.11808186,   4.35451161,   0.25648121,   3.65300712,\n",
       "          3.55897521,   2.05329456],\n",
       "       [ 30.08280467,  11.53045103,   5.59014354,   5.73090412,\n",
       "          7.42323753,   4.81180833,   0.19013182,   3.19351552,\n",
       "          4.08068437,   1.23231732],\n",
       "       [ 21.52395686,  11.37187367,   5.8730903 ,   5.71268499,\n",
       "         12.74480543,   4.44831436,   0.24287132,   3.55875415,\n",
       "          3.66599053,   1.88489203],\n",
       "       [ 24.65339413,  11.42985553,   5.7696343 ,   5.71934659,\n",
       "         10.79903968,   4.58122146,   0.22358778,   3.42520914,\n",
       "          3.81761822,   1.64628613],\n",
       "       [ 24.71307115,  11.43096122,   5.76766144,   5.71947362,\n",
       "         10.76193477,   4.58375594,   0.22322005,   3.4226625 ,\n",
       "          3.8205097 ,   1.64173602],\n",
       "       [ 27.25893277,  11.47813065,   5.68349786,   5.72489297,\n",
       "          9.17901429,   4.69187859,   0.20753248,   3.31402088,\n",
       "          3.94386195,   1.4476252 ],\n",
       "       [ 14.21804978,  11.23651065,   6.11461612,   5.69713298,\n",
       "         17.28734217,   4.13803274,   0.28789022,   3.87052502,\n",
       "          3.31200426,   2.4419355 ],\n",
       "       [ 21.01711696,  11.362483  ,   5.88984591,   5.71160609,\n",
       "         13.05993931,   4.42678889,   0.24599447,   3.58038294,\n",
       "          3.64143309,   1.92353636],\n",
       "       [ 36.35732346,  11.6467046 ,   5.38271436,   5.74426062,\n",
       "          3.52197902,   5.07828693,   0.15146832,   2.92575791,\n",
       "          4.38469775,   0.75391271],\n",
       "       [ 22.50781813,  11.39010254,   5.84056485,   5.71477933,\n",
       "         12.1330777 ,   4.49009892,   0.23680879,   3.51676904,\n",
       "          3.71366064,   1.80987692],\n",
       "       [ 28.43685151,  11.499955  ,   5.64455707,   5.7274004 ,\n",
       "          8.44662896,   4.74190476,   0.20027416,   3.26375461,\n",
       "          4.00093454,   1.35781405],\n",
       "       [ 26.32793829,  11.46088129,   5.71427558,   5.72291118,\n",
       "          9.75787145,   4.65233929,   0.21326926,   3.35374996,\n",
       "          3.89875335,   1.51860946]])"
      ]
     },
     "execution_count": 24,
     "metadata": {},
     "output_type": "execute_result"
    }
   ],
   "source": [
    "# Get predicted X for a given number of components\n",
    "\n",
    "# Predicted X from calibration using 1 component\n",
    "model_01.X_predCal()[1]"
   ]
  },
  {
   "cell_type": "code",
   "execution_count": 25,
   "metadata": {
    "collapsed": false
   },
   "outputs": [
    {
     "data": {
      "text/plain": [
       "array([[  2.08136154e+01,   9.87375425e+00,   2.84578644e+00,\n",
       "          5.99270587e+00,   1.44473893e+01,   4.66955443e+00,\n",
       "          2.66138348e-01,   4.15789495e+00,   3.60621656e+00,\n",
       "          2.51856335e+00],\n",
       "       [  2.24945852e+01,   1.12214815e+01,   4.61019213e+00,\n",
       "          6.08337445e+00,   1.09800746e+01,   6.16160464e+00,\n",
       "          2.10409392e-01,   3.71525517e+00,   3.54588531e+00,\n",
       "          2.03625330e+00],\n",
       "       [  3.02893857e+01,   1.06083284e+01,   3.43389676e+00,\n",
       "          5.72130613e+00,   9.37384660e+00,   3.50421061e+00,\n",
       "          2.24561786e-01,   3.53308061e+00,   4.27562643e+00,\n",
       "          1.63872606e+00],\n",
       "       [  2.77871729e+01,   1.13912660e+01,   3.15841220e+00,\n",
       "          5.89381347e+00,   9.85029756e+00,   3.98119269e+00,\n",
       "          2.14045898e-01,   3.56304500e+00,   4.18226580e+00,\n",
       "          1.90398671e+00],\n",
       "       [  1.37126466e+01,   8.57534979e+00,   1.73520773e+01,\n",
       "          4.49312800e+00,   1.69425737e+01,   5.64570508e+00,\n",
       "          3.34628724e-01,   3.11710627e+00,   2.24679146e+00,\n",
       "          2.38828913e-01],\n",
       "       [  2.49189108e+01,   1.39947505e+01,   4.46364385e+00,\n",
       "          5.91177759e+00,   9.56785529e+00,   3.77765786e+00,\n",
       "          1.84778153e-01,   3.13863084e+00,   4.26020261e+00,\n",
       "          1.91543814e+00],\n",
       "       [  2.37928398e+01,   1.16023912e+01,   3.08476087e+00,\n",
       "          5.72347278e+00,   1.33486034e+01,   2.40758075e+00,\n",
       "          2.56110040e-01,   3.67989314e+00,   4.20736311e+00,\n",
       "          2.26379594e+00],\n",
       "       [  2.61621809e+01,   9.95029992e+00,   8.21329012e+00,\n",
       "          5.00417385e+00,   1.27254993e+01,   2.27693049e+00,\n",
       "          2.86109587e-01,   3.27033266e+00,   3.91223052e+00,\n",
       "          1.04569607e+00],\n",
       "       [  2.36346881e+01,   9.74458245e+00,   3.97669500e+00,\n",
       "          5.77257154e+00,   1.31441501e+01,   4.25241885e+00,\n",
       "          2.63097544e-01,   3.92031260e+00,   3.73010354e+00,\n",
       "          2.06600891e+00],\n",
       "       [  2.53184372e+01,   1.03054551e+01,   3.62968760e+00,\n",
       "          6.13641741e+00,   9.99490010e+00,   6.35270798e+00,\n",
       "          2.08693583e-01,   3.84356084e+00,   3.62130322e+00,\n",
       "          1.98355605e+00],\n",
       "       [  2.44977864e+01,   1.13008403e+01,   4.61828320e+00,\n",
       "          5.82854581e+00,   1.11963826e+01,   4.49491714e+00,\n",
       "          2.26327304e-01,   3.57560497e+00,   3.86699024e+00,\n",
       "          1.88412533e+00],\n",
       "       [  3.23903306e+01,   9.39603261e+00,   4.94045104e+00,\n",
       "          5.24593096e+00,   1.01408106e+01,   2.05106571e+00,\n",
       "          2.63410110e-01,   3.43161669e+00,   4.36663099e+00,\n",
       "          1.16873702e+00],\n",
       "       [  3.00659356e+01,   1.55212209e+01,   5.38589946e+00,\n",
       "          5.70955022e+00,   6.25103466e+00,   2.72945595e+00,\n",
       "          1.48707044e-01,   2.54889415e+00,   4.75985359e+00,\n",
       "          1.33530483e+00],\n",
       "       [  2.01523569e+01,   1.28322746e+01,   4.52554066e+00,\n",
       "          5.32439823e+00,   1.64223565e+01,  -9.23803316e-03,\n",
       "          2.93543449e-01,   3.43868018e+00,   4.38303193e+00,\n",
       "          2.31585534e+00],\n",
       "       [  2.28571481e+01,   1.21811813e+01,   4.51611195e+00,\n",
       "          5.77281389e+00,   1.23129952e+01,   3.53820794e+00,\n",
       "          2.33584037e-01,   3.50100639e+00,   4.00089866e+00,\n",
       "          2.05738244e+00],\n",
       "       [  2.27444403e+01,   1.39580586e+01,   5.04423974e+00,\n",
       "          6.08381444e+00,   9.47427717e+00,   5.29712970e+00,\n",
       "          1.72329398e-01,   3.21181640e+00,   3.92330357e+00,\n",
       "          1.96802009e+00],\n",
       "       [  2.63162818e+01,   1.11614709e+01,   6.15783142e+00,\n",
       "          5.99240680e+00,   7.93190462e+00,   6.98945925e+00,\n",
       "          1.81128275e-01,   3.40523476e+00,   3.54674731e+00,\n",
       "          1.40969556e+00],\n",
       "       [  2.39887239e+01,   1.21478656e+01,   1.45512324e+01,\n",
       "          5.50055697e+00,   5.39016169e+00,   9.48734822e+00,\n",
       "          1.46917016e-01,   2.49738751e+00,   2.77881032e+00,\n",
       "         -5.34800505e-02],\n",
       "       [  2.52000818e+01,   8.89030050e+00,   1.30617107e+01,\n",
       "          6.46224553e+00,   1.29253332e+00,   1.65071694e+01,\n",
       "          8.40385079e-02,   3.27079007e+00,   1.69081498e+00,\n",
       "          4.35558532e-02],\n",
       "       [  2.54783262e+01,   1.21943993e+01,   3.99531200e+00,\n",
       "          6.24109327e+00,   8.29332641e+00,   6.52739233e+00,\n",
       "          1.69839080e-01,   3.50682233e+00,   3.77932903e+00,\n",
       "          1.91807785e+00],\n",
       "       [  1.21299944e+01,   7.33473264e+00,   8.49854966e+00,\n",
       "          5.82761701e+00,   1.73998751e+01,   8.48783590e+00,\n",
       "          3.04439406e-01,   4.40843553e+00,   2.13440661e+00,\n",
       "          2.06743740e+00],\n",
       "       [  2.72551336e+01,   1.16273915e+01,   3.62640813e+00,\n",
       "          5.62719269e+00,   1.13120933e+01,   2.36226765e+00,\n",
       "          2.39786035e-01,   3.46244790e+00,   4.36195522e+00,\n",
       "          1.87238237e+00],\n",
       "       [  1.97139965e+01,   1.31604833e+01,   3.83049592e+00,\n",
       "          5.99304710e+00,   1.31572712e+01,   3.90157327e+00,\n",
       "          2.23783913e-01,   3.57095649e+00,   3.93076743e+00,\n",
       "          2.45908537e+00],\n",
       "       [  2.03979951e+01,   1.23214634e+01,   2.86158890e+00,\n",
       "          5.65085025e+00,   1.58210753e+01,   1.20460554e+00,\n",
       "          2.79154113e-01,   3.71579730e+00,   4.27438306e+00,\n",
       "          2.60591025e+00],\n",
       "       [  3.08789274e+01,   1.22201963e+01,   6.45304064e+00,\n",
       "          5.29553572e+00,   8.57537729e+00,   2.21148985e+00,\n",
       "          2.17437936e-01,   2.89833275e+00,   4.47801544e+00,\n",
       "          1.02688183e+00],\n",
       "       [  2.03721642e+01,   1.43144269e+01,   8.86798829e+00,\n",
       "          5.56381324e+00,   1.09283761e+01,   4.35088074e+00,\n",
       "          1.99565672e-01,   2.82387872e+00,   3.76409088e+00,\n",
       "          1.42624967e+00],\n",
       "       [  2.32398573e+01,   1.57919683e+01,   6.36633018e+00,\n",
       "          5.87959199e+00,   8.66573662e+00,   4.12075451e+00,\n",
       "          1.56731073e-01,   2.73413462e+00,   4.21587986e+00,\n",
       "          1.69808350e+00],\n",
       "       [  2.45052980e+01,   1.32659755e+01,   7.32327212e+00,\n",
       "          5.48404921e+00,   1.03972152e+01,   3.32827231e+00,\n",
       "          2.12850491e-01,   2.94878232e+00,   4.07591214e+00,\n",
       "          1.38476590e+00],\n",
       "       [  2.66275549e+01,   1.37950043e+01,   5.32658268e+00,\n",
       "          5.85259994e+00,   8.24480667e+00,   4.22885444e+00,\n",
       "          1.73906483e-01,   3.01012264e+00,   4.22394966e+00,\n",
       "          1.59919920e+00],\n",
       "       [  1.51288441e+01,   1.12776378e+01,   3.09082363e+00,\n",
       "          5.75203400e+00,   1.87364124e+01,   2.22110272e+00,\n",
       "          3.09142847e-01,   4.10978218e+00,   3.76222040e+00,\n",
       "          2.97600699e+00],\n",
       "       [  2.13946593e+01,   1.00326128e+01,   3.61880660e+00,\n",
       "          5.94584630e+00,   1.36978810e+01,   4.90748827e+00,\n",
       "          2.57549001e-01,   4.02860737e+00,   3.58137232e+00,\n",
       "          2.31881191e+00],\n",
       "       [  3.85537298e+01,   7.11683246e+00,   8.59558916e+00,\n",
       "          4.83368354e+00,   6.69643405e+00,   3.41736659e+00,\n",
       "          2.58927157e-01,   3.14552095e+00,   4.08362241e+00,\n",
       "         -9.33305365e-02],\n",
       "       [  2.31802720e+01,   1.06785149e+01,   3.77916542e+00,\n",
       "          5.77933034e+00,   1.32000652e+01,   3.70304375e+00,\n",
       "          2.56456100e-01,   3.80434014e+00,   3.88201154e+00,\n",
       "          2.15717909e+00],\n",
       "       [  2.93060337e+01,   9.25349487e+00,   2.22456475e+00,\n",
       "          5.98794757e+00,   9.85458153e+00,   4.95570178e+00,\n",
       "          2.29197524e-01,   3.95182076e+00,   3.96605578e+00,\n",
       "          1.92983125e+00],\n",
       "       [  2.60646461e+01,   1.07897633e+01,   6.28924399e+00,\n",
       "          5.78540653e+00,   9.35085167e+00,   5.81047603e+00,\n",
       "          2.09133455e-01,   3.43330631e+00,   3.64021241e+00,\n",
       "          1.41050818e+00]])"
      ]
     },
     "execution_count": 25,
     "metadata": {},
     "output_type": "execute_result"
    }
   ],
   "source": [
    "# Predicted X from calibration using 4 components\n",
    "model_01.X_predCal()[4]"
   ]
  },
  {
   "cell_type": "code",
   "execution_count": 26,
   "metadata": {
    "collapsed": false
   },
   "outputs": [
    {
     "name": "stdout",
     "output_type": "stream",
     "text": [
      "Help on function X_predCal in module hoggorm.pca:\n",
      "\n",
      "X_predCal(self)\n",
      "    Returns a dictionary holding the predicted arrays Xhat from \n",
      "    calibration after each computed component. Dictionary key represents \n",
      "    order of component.\n",
      "\n"
     ]
    }
   ],
   "source": [
    "help(ho.nipalsPCA.X_predCal)"
   ]
  },
  {
   "cell_type": "code",
   "execution_count": 27,
   "metadata": {
    "collapsed": false
   },
   "outputs": [
    {
     "data": {
      "text/plain": [
       "array([[  8.98198708e+02,   1.55232365e+02,   3.93526301e+02,\n",
       "          3.56996935e+01,   4.71046085e+02,   2.94534997e+02,\n",
       "          9.74341287e-01,   2.28603707e+01,   3.71582442e+01,\n",
       "          3.92837160e+01],\n",
       "       [  6.01984063e+01,   1.54944700e+02,   3.92610533e+02,\n",
       "          3.56958963e+01,   1.47083944e+02,   2.93023411e+02,\n",
       "          9.42522212e-01,   2.13343202e+01,   3.51909731e+01,\n",
       "          3.44120511e+01],\n",
       "       [  2.71740697e+01,   1.47547231e+02,   8.95411861e+01,\n",
       "          3.56956398e+01,   6.46210176e+01,   8.55118703e+01,\n",
       "          9.26023159e-01,   2.05368186e+01,   2.43106745e+01,\n",
       "          2.48702015e+01],\n",
       "       [  7.11484589e+00,   8.60745542e+01,   3.91597234e+01,\n",
       "          3.16484014e+01,   2.30088672e+01,   6.38196086e+01,\n",
       "          8.79979719e-01,   2.05164370e+01,   2.41960361e+01,\n",
       "          2.15988909e+01],\n",
       "       [  6.74798048e+00,   9.77887939e+00,   1.25708853e+00,\n",
       "          3.04394270e+01,   2.17388727e+01,   1.79834997e+01,\n",
       "          8.78359053e-01,   1.58737862e+01,   2.22343903e+01,\n",
       "          2.05919068e+01]])"
      ]
     },
     "execution_count": 27,
     "metadata": {},
     "output_type": "execute_result"
    }
   ],
   "source": [
    "# Get PRESSE for each variable (PRediction Error Sum of Squares for Estimation)\n",
    "model_01.X_PRESSE_indVar()"
   ]
  },
  {
   "cell_type": "code",
   "execution_count": 28,
   "metadata": {
    "collapsed": false
   },
   "outputs": [
    {
     "name": "stdout",
     "output_type": "stream",
     "text": [
      "Help on function X_PRESSE_indVar in module hoggorm.pca:\n",
      "\n",
      "X_PRESSE_indVar(self)\n",
      "    Returns array holding PRESSE for each individual variable in X\n",
      "    acquired through calibration after each computed component. First row \n",
      "    is PRESSE for zero components, second row for component 1, third row \n",
      "    for component 2, etc.\n",
      "\n"
     ]
    }
   ],
   "source": [
    "help(ho.nipalsPCA.X_PRESSE_indVar)"
   ]
  },
  {
   "cell_type": "code",
   "execution_count": 29,
   "metadata": {
    "collapsed": false
   },
   "outputs": [
    {
     "data": {
      "text/plain": [
       "array([ 2348.51482175,  1175.43675743,   520.73473206,   318.01734427,\n",
       "         147.52419002])"
      ]
     },
     "execution_count": 29,
     "metadata": {},
     "output_type": "execute_result"
    }
   ],
   "source": [
    "# Get PRESSE (PRediction Error Sum of Squares for Estimation)\n",
    "model_01.X_PRESSE()"
   ]
  },
  {
   "cell_type": "code",
   "execution_count": 30,
   "metadata": {
    "collapsed": false
   },
   "outputs": [
    {
     "name": "stdout",
     "output_type": "stream",
     "text": [
      "Help on function X_PRESSE in module hoggorm.pca:\n",
      "\n",
      "X_PRESSE(self)\n",
      "    Returns array holding PRESSE across all variables in X acquired  \n",
      "    through calibration after each computed component. First row is PRESSE \n",
      "    for zero components, second row for component 1, third row for \n",
      "    component 2, etc.\n",
      "\n"
     ]
    }
   ],
   "source": [
    "help(ho.nipalsPCA.X_PRESSE)"
   ]
  },
  {
   "cell_type": "code",
   "execution_count": 31,
   "metadata": {
    "collapsed": false
   },
   "outputs": [
    {
     "data": {
      "text/plain": [
       "array([[  2.56628202e+01,   4.43521042e+00,   1.12436086e+01,\n",
       "          1.01999124e+00,   1.34584596e+01,   8.41528564e+00,\n",
       "          2.78383225e-02,   6.53153450e-01,   1.06166412e+00,\n",
       "          1.12239189e+00],\n",
       "       [  1.71995447e+00,   4.42699144e+00,   1.12174438e+01,\n",
       "          1.01988275e+00,   4.20239839e+00,   8.37209745e+00,\n",
       "          2.69292061e-02,   6.09552006e-01,   1.00545638e+00,\n",
       "          9.83201460e-01],\n",
       "       [  7.76401990e-01,   4.21563517e+00,   2.55831960e+00,\n",
       "          1.01987542e+00,   1.84631479e+00,   2.44319629e+00,\n",
       "          2.64578045e-02,   5.86766247e-01,   6.94590699e-01,\n",
       "          7.10577185e-01],\n",
       "       [  2.03281311e-01,   2.45927298e+00,   1.11884924e+00,\n",
       "          9.04240039e-01,   6.57396204e-01,   1.82341739e+00,\n",
       "          2.51422777e-02,   5.86183913e-01,   6.91315318e-01,\n",
       "          6.17111169e-01],\n",
       "       [  1.92799442e-01,   2.79396554e-01,   3.59168151e-02,\n",
       "          8.69697913e-01,   6.21110648e-01,   5.13814276e-01,\n",
       "          2.50959729e-02,   4.53536748e-01,   6.35268294e-01,\n",
       "          5.88340195e-01]])"
      ]
     },
     "execution_count": 31,
     "metadata": {},
     "output_type": "execute_result"
    }
   ],
   "source": [
    "# Get MSEE (Mean Square Error of Estimation) for each variable in X\n",
    "model_01.X_MSEE_indVar()"
   ]
  },
  {
   "cell_type": "code",
   "execution_count": 32,
   "metadata": {
    "collapsed": false
   },
   "outputs": [
    {
     "name": "stdout",
     "output_type": "stream",
     "text": [
      "Help on function X_MSEE_indVar in module hoggorm.pca:\n",
      "\n",
      "X_MSEE_indVar(self)\n",
      "    Returns an array holding MSEE for each variable in array X acquired \n",
      "    through calibration after each computed component. First row holds MSEE \n",
      "    for zero components, second row for component 1, third row for \n",
      "    component 2, etc.\n",
      "\n"
     ]
    }
   ],
   "source": [
    "help(ho.nipalsPCA.X_MSEE_indVar)"
   ]
  },
  {
   "cell_type": "code",
   "execution_count": 33,
   "metadata": {
    "collapsed": false
   },
   "outputs": [
    {
     "data": {
      "text/plain": [
       "array([ 6.71004235,  3.35839074,  1.48781352,  0.90862098,  0.42149769])"
      ]
     },
     "execution_count": 33,
     "metadata": {},
     "output_type": "execute_result"
    }
   ],
   "source": [
    "# Get MSEE (Mean Error of Estimation)\n",
    "model_01.X_MSEE()"
   ]
  },
  {
   "cell_type": "code",
   "execution_count": 34,
   "metadata": {
    "collapsed": false
   },
   "outputs": [
    {
     "name": "stdout",
     "output_type": "stream",
     "text": [
      "Help on function X_MSEE in module hoggorm.pca:\n",
      "\n",
      "X_MSEE(self)\n",
      "    Returns an array holding MSEE across all variables in X acquired \n",
      "    through calibration after each computed component. First row is MSEE \n",
      "    for zero components, second row for component 1, third row for \n",
      "    component 2, etc.\n",
      "\n"
     ]
    }
   ],
   "source": [
    "help(ho.nipalsPCA.X_MSEE)"
   ]
  },
  {
   "cell_type": "code",
   "execution_count": 35,
   "metadata": {
    "collapsed": false
   },
   "outputs": [
    {
     "data": {
      "text/plain": [
       "array([[ 5.06584842,  2.10599393,  3.35314906,  1.00994616,  3.66857732,\n",
       "         2.90091117,  0.1668482 ,  0.80817909,  1.03037087,  1.05942998],\n",
       "       [ 1.31147035,  2.10404169,  3.34924526,  1.00989244,  2.04997522,\n",
       "         2.8934577 ,  0.16410121,  0.78073812,  1.00272448,  0.99156516],\n",
       "       [ 0.88113676,  2.0532012 ,  1.59947479,  1.00988882,  1.35879166,\n",
       "         1.56307271,  0.16265855,  0.76600669,  0.83342108,  0.8429574 ],\n",
       "       [ 0.45086729,  1.56820693,  1.0577567 ,  0.95091537,  0.81079973,\n",
       "         1.35033973,  0.15856317,  0.76562648,  0.83145374,  0.78556424],\n",
       "       [ 0.43908933,  0.52857975,  0.18951732,  0.93257596,  0.78810573,\n",
       "         0.7168084 ,  0.15841709,  0.67345137,  0.7970372 ,  0.76703337]])"
      ]
     },
     "execution_count": 35,
     "metadata": {},
     "output_type": "execute_result"
    }
   ],
   "source": [
    "# Get RMSEE (Root Mean Square Error of Estimation) for each variable in X\n",
    "model_01.X_RMSEE_indVar()"
   ]
  },
  {
   "cell_type": "code",
   "execution_count": 36,
   "metadata": {
    "collapsed": false
   },
   "outputs": [
    {
     "name": "stdout",
     "output_type": "stream",
     "text": [
      "Help on function X_RMSEE_indVar in module hoggorm.pca:\n",
      "\n",
      "X_RMSEE_indVar(self)\n",
      "    Returns an array holding RMSEE for each variable in array X acquired \n",
      "    through calibration after each components. First row holds RMSEE \n",
      "    for zero components, second row for component 1, third row for \n",
      "    component 2, etc.\n",
      "\n"
     ]
    }
   ],
   "source": [
    "help(ho.nipalsPCA.X_RMSEE_indVar)"
   ]
  },
  {
   "cell_type": "code",
   "execution_count": 37,
   "metadata": {
    "collapsed": false
   },
   "outputs": [
    {
     "data": {
      "text/plain": [
       "array([ 2.59037494,  1.83259126,  1.21975962,  0.95321613,  0.64922853])"
      ]
     },
     "execution_count": 37,
     "metadata": {},
     "output_type": "execute_result"
    }
   ],
   "source": [
    "# Get RMSEE (Root Mean Square Error of Estimation)\n",
    "model_01.X_RMSEE()"
   ]
  },
  {
   "cell_type": "code",
   "execution_count": 38,
   "metadata": {
    "collapsed": false
   },
   "outputs": [
    {
     "name": "stdout",
     "output_type": "stream",
     "text": [
      "Help on function X_RMSEE in module hoggorm.pca:\n",
      "\n",
      "X_RMSEE(self)\n",
      "    Returns an array holding RMSEE across all variables in X acquired \n",
      "    through calibration after each computed component. First row is RMSEE \n",
      "    for zero components, second row for component 1, third row for \n",
      "    component 2, etc.\n",
      "\n"
     ]
    }
   ],
   "source": [
    "help(ho.nipalsPCA.X_RMSEE)"
   ]
  },
  {
   "cell_type": "code",
   "execution_count": 39,
   "metadata": {
    "collapsed": false
   },
   "outputs": [
    {
     "data": {
      "text/plain": [
       "[39.518483629178753,\n",
       " 28.358538211862076,\n",
       " 3.8156686670736235,\n",
       " 17.105668438393423]"
      ]
     },
     "execution_count": 39,
     "metadata": {},
     "output_type": "execute_result"
    }
   ],
   "source": [
    "# Get validated explained variance\n",
    "model_01.X_valExplVar()"
   ]
  },
  {
   "cell_type": "code",
   "execution_count": 40,
   "metadata": {
    "collapsed": false
   },
   "outputs": [
    {
     "name": "stdout",
     "output_type": "stream",
     "text": [
      "Help on function X_valExplVar in module hoggorm.pca:\n",
      "\n",
      "X_valExplVar(self)\n",
      "    Returns a list holding the validated explained variance for X after\n",
      "    each component. First number in list is for component 1, second number \n",
      "    for component 2, third number for component 3, etc.\n",
      "\n"
     ]
    }
   ],
   "source": [
    "help(ho.nipalsPCA.X_valExplVar)"
   ]
  },
  {
   "cell_type": "code",
   "execution_count": 41,
   "metadata": {
    "collapsed": false
   },
   "outputs": [
    {
     "data": {
      "text/plain": [
       "array([[  0.00000000e+00,   0.00000000e+00,   0.00000000e+00,\n",
       "          0.00000000e+00,   0.00000000e+00,   0.00000000e+00,\n",
       "          0.00000000e+00,   0.00000000e+00,   0.00000000e+00,\n",
       "          0.00000000e+00],\n",
       "       [  9.05607331e+01,  -2.05236410e+01,  -2.32998580e+01,\n",
       "         -8.32144490e+00,   6.12949604e+01,  -1.42233274e+01,\n",
       "         -1.28405712e+01,  -8.20989464e+00,  -9.82668859e+00,\n",
       "          5.53839299e-02],\n",
       "       [  9.57843219e+01,  -2.05066740e+01,   6.23283228e+01,\n",
       "         -1.87922614e+01,   8.37818021e+01,   3.99004102e+01,\n",
       "         -2.12991636e+01,  -1.86304882e+01,   2.60029556e+01,\n",
       "          2.46018504e+01],\n",
       "       [  9.70409408e+01,  -9.07328256e-01,   6.72608850e+01,\n",
       "         -1.37808132e+01,   8.99374262e+01,   3.91350907e+01,\n",
       "         -2.10724255e+01,  -2.67572647e+01,   2.26711664e+01,\n",
       "          3.23710325e+01],\n",
       "       [  9.84312459e+01,   8.81555787e+01,   9.94842478e+01,\n",
       "         -1.59476097e+01,   9.15141793e+01,   7.91495525e+01,\n",
       "         -3.78136811e+01,  -2.22265546e+01,   2.24344925e+01,\n",
       "          2.95317600e+01]])"
      ]
     },
     "execution_count": 41,
     "metadata": {},
     "output_type": "execute_result"
    }
   ],
   "source": [
    "# Get cumulative validated explained variance for each variable\n",
    "model_01.X_cumValExplVar_indVar()"
   ]
  },
  {
   "cell_type": "code",
   "execution_count": 42,
   "metadata": {
    "collapsed": false
   },
   "outputs": [
    {
     "name": "stdout",
     "output_type": "stream",
     "text": [
      "Help on function X_cumValExplVar_indVar in module hoggorm.pca:\n",
      "\n",
      "X_cumValExplVar_indVar(self)\n",
      "    Returns an array holding the cumulative validated explained variance\n",
      "    for each variable in X after each component. First row represents \n",
      "    zero components, second row represents component 1, third row for \n",
      "    compnent 2, etc. Columns represent variables.\n",
      "\n"
     ]
    }
   ],
   "source": [
    "help(ho.nipalsPCA.X_cumValExplVar_indVar)"
   ]
  },
  {
   "cell_type": "code",
   "execution_count": 43,
   "metadata": {
    "collapsed": false
   },
   "outputs": [
    {
     "data": {
      "text/plain": [
       "[0.0,\n",
       " 49.949783303916398,\n",
       " 77.827062140088117,\n",
       " 86.458789132578701,\n",
       " 93.718404982702125]"
      ]
     },
     "execution_count": 43,
     "metadata": {},
     "output_type": "execute_result"
    }
   ],
   "source": [
    "# Get cumulative validated explained variance\n",
    "model_01.X_cumCalExplVar()"
   ]
  },
  {
   "cell_type": "code",
   "execution_count": 44,
   "metadata": {
    "collapsed": false
   },
   "outputs": [
    {
     "name": "stdout",
     "output_type": "stream",
     "text": [
      "Help on function X_cumCalExplVar in module hoggorm.pca:\n",
      "\n",
      "X_cumCalExplVar(self)\n",
      "    Returns a list holding the cumulative validated explained variance \n",
      "    for array X after each component. First number represents zero \n",
      "    components, second number represents component 1, etc.\n",
      "\n"
     ]
    }
   ],
   "source": [
    "help(ho.nipalsPCA.X_cumCalExplVar)"
   ]
  },
  {
   "cell_type": "code",
   "execution_count": 45,
   "metadata": {
    "collapsed": false
   },
   "outputs": [
    {
     "data": {
      "text/plain": [
       "array([[ 20.34681203,  11.45245545,   6.10540251,   5.74315721,\n",
       "         13.43560059,   4.44625082,   0.25429699,   3.59181328,\n",
       "          3.62841112,   1.84224988],\n",
       "       [ 23.09850196,  11.41503296,   5.86040422,   5.68717267,\n",
       "         11.82014344,   4.47674615,   0.23601987,   3.48353161,\n",
       "          3.76355911,   1.76130778],\n",
       "       [ 29.1462562 ,  11.57348432,   5.84755218,   5.76329501,\n",
       "          7.83426418,   4.92449965,   0.19767746,   3.2037124 ,\n",
       "          3.98223411,   1.30002532],\n",
       "       [ 27.27846564,  11.47701018,   5.81814692,   5.73719826,\n",
       "          9.11422726,   4.74738076,   0.20756449,   3.29094023,\n",
       "          3.95825998,   1.43553901],\n",
       "       [ 17.1478419 ,  11.84276839,   3.73228089,   5.9032331 ,\n",
       "         16.24262697,   3.4604819 ,   0.2843434 ,   3.91310641,\n",
       "          3.74070871,   2.64806504],\n",
       "       [ 25.44197044,  11.36501498,   5.78591523,   5.68927025,\n",
       "         10.34534106,   4.65102445,   0.21696077,   3.39289757,\n",
       "          3.86385573,   1.58906752],\n",
       "       [ 22.87761462,  11.37195476,   5.91859112,   5.69459197,\n",
       "         11.79189172,   4.55750493,   0.23493413,   3.51130168,\n",
       "          3.71210131,   1.76169996],\n",
       "       [ 24.70995657,  11.4664776 ,   5.6900229 ,   5.72797851,\n",
       "         10.66649294,   4.65098166,   0.22653728,   3.40767415,\n",
       "          3.83205344,   1.65677544],\n",
       "       [ 22.84535407,  11.44777748,   5.88593402,   5.64406654,\n",
       "         11.84527912,   4.5178764 ,   0.23690429,   3.5250324 ,\n",
       "          3.7568388 ,   1.76022137],\n",
       "       [ 25.53605344,  11.48634635,   5.81623386,   5.7331471 ,\n",
       "         10.26954812,   4.56013508,   0.22054955,   3.38330615,\n",
       "          3.84440766,   1.59437559],\n",
       "       [ 24.37190418,  11.43193464,   5.81381967,   5.68708605,\n",
       "         10.97237887,   4.58290708,   0.22747511,   3.43210461,\n",
       "          3.82183353,   1.67356405],\n",
       "       [ 29.98875865,  11.76087811,   5.76900574,   5.77346799,\n",
       "          7.16637699,   5.2099227 ,   0.14285698,   3.13301428,\n",
       "          3.94645485,   1.24077555],\n",
       "       [ 30.43272703,  11.1296221 ,   5.66319923,   5.7664186 ,\n",
       "          7.20831795,   5.02765734,   0.19356591,   3.23045328,\n",
       "          4.12341725,   1.20516889],\n",
       "       [ 19.04507162,  11.17627367,   6.20529925,   5.83026142,\n",
       "         13.93720746,   4.70121516,   0.23119836,   3.70321563,\n",
       "          3.37508293,   2.1111647 ],\n",
       "       [ 22.69042794,  11.36190615,   5.88645945,   5.71218899,\n",
       "         11.99675365,   4.53469534,   0.23549251,   3.52313156,\n",
       "          3.7501289 ,   1.79123043],\n",
       "       [ 24.01889921,  11.37975456,   5.80291011,   5.62885721,\n",
       "         11.33670847,   4.5826007 ,   0.22421655,   3.40647515,\n",
       "          3.75107689,   1.68234703],\n",
       "       [ 27.18427903,  11.50175343,   5.6532022 ,   5.73715357,\n",
       "          9.33280152,   4.57798972,   0.20679013,   3.30655775,\n",
       "          3.91204391,   1.47337029],\n",
       "       [ 26.22898138,  11.44519363,   5.37572525,   5.66887415,\n",
       "         10.04694073,   4.46113452,   0.22020991,   3.4025769 ,\n",
       "          3.94652345,   1.58644819],\n",
       "       [ 27.73033889,  11.57570327,   5.16209988,   5.72808718,\n",
       "          9.32104241,   3.94693463,   0.21187386,   3.36619133,\n",
       "          4.0843039 ,   1.50423854],\n",
       "       [ 26.46620593,  11.44499994,   5.76948932,   5.71052264,\n",
       "          9.77218682,   4.60345838,   0.21374726,   3.29952538,\n",
       "          3.89879513,   1.49999265],\n",
       "       [ 14.82390482,  12.33059733,   4.70876714,   5.8097311 ,\n",
       "         18.14036531,   2.57463594,   0.20933474,   3.45483318,\n",
       "          3.78355733,   2.95588371],\n",
       "       [ 26.18687091,  11.45660276,   5.80559979,   5.73598916,\n",
       "          9.77260579,   4.74566572,   0.21572733,   3.36753213,\n",
       "          3.89760829,   1.50274659],\n",
       "       [ 20.19126192,  11.24400971,   6.04552133,   5.75774054,\n",
       "         13.61335608,   4.46034699,   0.25399596,   3.5867847 ,\n",
       "          3.63905413,   1.80843812],\n",
       "       [ 19.46331418,  11.18832061,   6.22653667,   5.68040601,\n",
       "         13.65452539,   4.58148026,   0.25847042,   3.66003554,\n",
       "          3.50857553,   1.93228067],\n",
       "       [ 29.92153982,  11.48915568,   5.57867171,   5.82011916,\n",
       "          7.38916532,   5.06909255,   0.18959976,   3.21577585,\n",
       "          3.9858953 ,   1.21873998],\n",
       "       [ 21.66812362,  11.25137741,   5.73574037,   5.75128221,\n",
       "         12.76415023,   4.42688757,   0.24590626,   3.57868016,\n",
       "          3.64449881,   1.9233474 ],\n",
       "       [ 24.70163525,  11.32117762,   5.75991156,   5.72132211,\n",
       "         10.90003958,   4.6241494 ,   0.22182822,   3.45139578,\n",
       "          3.83755768,   1.65020471],\n",
       "       [ 24.70207546,  11.36284212,   5.7173649 ,   5.73742223,\n",
       "         10.75470387,   4.60092539,   0.22526788,   3.45078983,\n",
       "          3.81232004,   1.62645259],\n",
       "       [ 27.23471757,  11.36801611,   5.70626897,   5.76088803,\n",
       "          9.2212383 ,   4.67435913,   0.20828122,   3.3309657 ,\n",
       "          3.84222224,   1.47303056],\n",
       "       [ 14.40104928,  10.97846768,   7.15069287,   5.49256084,\n",
       "         16.0263161 ,   4.74242019,   0.30109549,   3.86284984,\n",
       "          3.08118882,   2.23189397],\n",
       "       [ 21.02722664,  11.41421478,   6.00483764,   5.6882678 ,\n",
       "         12.97606657,   4.39958842,   0.256229  ,   3.58654903,\n",
       "          3.6138907 ,   1.8972932 ],\n",
       "       [ 34.70805848,  12.73077146,   4.43827495,   5.90125003,\n",
       "          3.19310695,   5.37025158,   0.13863934,   2.81294203,\n",
       "          4.58126888,   0.91709044],\n",
       "       [ 22.52277835,  11.4277958 ,   5.92845141,   5.74064062,\n",
       "         12.09216456,   4.53343877,   0.23807037,   3.52482443,\n",
       "          3.7026135 ,   1.81595167],\n",
       "       [ 28.25656458,  11.62089423,   5.87585633,   5.70184853,\n",
       "          8.44622689,   4.78306465,   0.19876321,   3.21398441,\n",
       "          4.01363028,   1.32581152],\n",
       "       [ 26.33233843,  11.48846062,   5.68974402,   5.71555893,\n",
       "          9.78464408,   4.6110672 ,   0.21402859,   3.35158926,\n",
       "          3.90920806,   1.52771321]])"
      ]
     },
     "execution_count": 45,
     "metadata": {},
     "output_type": "execute_result"
    }
   ],
   "source": [
    "# Get predicted X from validation for a given number of components\n",
    "\n",
    "# Predicted X from validation using 1 component\n",
    "model_01.X_predVal()[1]"
   ]
  },
  {
   "cell_type": "code",
   "execution_count": 46,
   "metadata": {
    "collapsed": false
   },
   "outputs": [
    {
     "data": {
      "text/plain": [
       "array([[ 20.76453048,  11.88381605,   4.35130243,   5.78385094,\n",
       "         14.21024217,   3.15265978,   0.26372279,   3.67141631,\n",
       "          3.95354034,   2.14873147],\n",
       "       [ 22.47976076,  12.31298296,   5.50625091,   5.88895224,\n",
       "         10.91963533,   5.23085737,   0.21005335,   3.42543674,\n",
       "          3.75351302,   1.88668236],\n",
       "       [ 30.21248915,  11.53226188,   4.06418788,   5.66043479,\n",
       "          9.25965143,   2.84332487,   0.22597009,   3.31021172,\n",
       "          4.37964783,   1.59222827],\n",
       "       [ 27.73853572,  12.10894856,   3.70382821,   5.82374366,\n",
       "          9.77303303,   3.41565731,   0.21198888,   3.36948298,\n",
       "          4.33309555,   1.83548504],\n",
       "       [ 13.07573336,   9.64672625,   8.91372094,   6.30795845,\n",
       "         13.90080812,  10.67092096,   0.26401184,   4.06878206,\n",
       "          2.15025174,   1.82437628],\n",
       "       [ 25.09828568,  12.48801024,   3.66975917,   5.98794676,\n",
       "          9.88157713,   4.7559089 ,   0.18988202,   3.45848565,\n",
       "          4.07797978,   2.05432062],\n",
       "       [ 23.74804814,  11.74677078,   3.21747619,   5.66313568,\n",
       "         13.25700278,   2.23563992,   0.25795584,   3.66941764,\n",
       "          4.22432934,   2.24152747],\n",
       "       [ 25.97750383,   8.71648423,   6.6000621 ,   5.28125037,\n",
       "         12.51724984,   3.84078964,   0.30126559,   3.60996968,\n",
       "          3.71242991,   1.34675559],\n",
       "       [ 23.48480421,  11.28726586,   4.96683229,   5.51735532,\n",
       "         12.84798767,   3.17951282,   0.25828502,   3.60137696,\n",
       "          3.99840471,   1.89305406],\n",
       "       [ 25.26496487,  12.14019405,   5.19236919,   5.87489523,\n",
       "          9.88054826,   4.71192679,   0.20625026,   3.36711279,\n",
       "          3.9046705 ,   1.7508825 ],\n",
       "       [ 24.47135756,  11.75551936,   4.94829974,   5.73885985,\n",
       "         11.14654925,   4.15253963,   0.22670566,   3.46180642,\n",
       "          3.96074907,   1.84317411],\n",
       "       [ 32.31513371,  10.58349433,   5.39902341,   5.19619013,\n",
       "         10.13626732,   1.74552803,   0.1558136 ,   3.12939813,\n",
       "          4.26736887,   1.2001227 ],\n",
       "       [ 30.37807319,  11.86146821,   3.7600667 ,   6.00047874,\n",
       "          7.09571992,   4.78768307,   0.18113039,   3.32074779,\n",
       "          4.3419837 ,   1.59654321],\n",
       "       [ 20.22786089,  10.99720213,   3.14619643,   5.78184705,\n",
       "         16.33765049,   1.57069178,   0.25734075,   3.96869168,\n",
       "          3.89804938,   2.707126  ],\n",
       "       [ 22.87572313,  11.90469079,   4.34205239,   5.80349803,\n",
       "         12.3422371 ,   3.74465501,   0.23474472,   3.58406723,\n",
       "          4.00332668,   2.09245194],\n",
       "       [ 23.12562615,  12.64166625,   4.58004875,   5.91735985,\n",
       "         10.07427493,   6.05528495,   0.17207657,   3.32523731,\n",
       "          3.67535159,   1.98561945],\n",
       "       [ 26.29004125,  11.95558065,   6.7610005 ,   5.9149599 ,\n",
       "          7.88815042,   6.32804446,   0.1743746 ,   3.19060203,\n",
       "          3.61113311,   1.32676522],\n",
       "       [ 24.22127855,   9.68549878,  12.40552862,   5.30452888,\n",
       "          5.92725005,  11.32180806,   0.18805493,   3.218558  ,\n",
       "          2.52766971,   0.23451496],\n",
       "       [ 25.40258915,  11.88223671,  16.29101114,   5.83630395,\n",
       "          2.37630696,   8.38504823,   0.13774618,   2.95983374,\n",
       "          2.65457796,  -0.6904575 ],\n",
       "       [ 25.51119007,  13.18402039,   4.92647312,   6.07151565,\n",
       "          8.34553774,   5.60375668,   0.16670905,   3.12799554,\n",
       "          3.93182182,   1.76070369],\n",
       "       [ 12.39154693,  11.50956781,  10.39925894,   5.70556426,\n",
       "         16.7631546 ,   6.06271193,   0.14947823,   2.9774419 ,\n",
       "          2.86882709,   2.13648216],\n",
       "       [ 27.26421033,  11.5303758 ,   3.55754186,   5.65830805,\n",
       "         11.3373314 ,   2.46435512,   0.24498129,   3.511832  ,\n",
       "          4.38276892,   1.86787255],\n",
       "       [ 19.84753558,  12.61593697,   3.6124009 ,   6.12630547,\n",
       "         13.29884403,   4.23494437,   0.2310747 ,   3.62666808,\n",
       "          3.96079249,   2.22855888],\n",
       "       [ 20.35049539,  11.67968725,   2.52585885,   5.65675826,\n",
       "         15.64194428,   1.49708604,   0.29252227,   3.89380683,\n",
       "          4.18693741,   2.57439614],\n",
       "       [ 30.86376849,  10.68357894,   5.08266021,   5.63025916,\n",
       "          8.70742116,   3.69395333,   0.22233862,   3.32210655,\n",
       "          4.13981077,   1.23460387],\n",
       "       [ 20.7739411 ,  11.31934821,   7.08273352,   5.89473211,\n",
       "         11.4753795 ,   6.27142825,   0.22133844,   3.50028859,\n",
       "          3.29074563,   1.7284244 ],\n",
       "       [ 23.98432054,  11.90087878,   4.98058966,   6.05314055,\n",
       "          9.86105472,   6.01904835,   0.18769578,   3.51251788,\n",
       "          3.75119763,   1.86219937],\n",
       "       [ 24.62344376,  11.32502508,   5.95534212,   5.737772  ,\n",
       "         10.63025426,   4.7983615 ,   0.22352373,   3.43877504,\n",
       "          3.76708787,   1.58405633],\n",
       "       [ 26.77561162,  12.22678805,   4.52475041,   6.04372884,\n",
       "          8.54632283,   5.13821954,   0.18374662,   3.35958749,\n",
       "          3.86630527,   1.76270602],\n",
       "       [ 14.9955235 ,  11.5427147 ,   3.45372774,   5.43199846,\n",
       "         18.18993848,   1.58300485,   0.33888233,   4.09964545,\n",
       "          3.73613292,   2.94501674],\n",
       "       [ 21.29982566,  11.69853543,   4.84754645,   5.71263962,\n",
       "         13.44938821,   3.57098379,   0.26221726,   3.64026146,\n",
       "          3.81873294,   2.111408  ],\n",
       "       [ 34.68584891,  13.26993073,   5.35093844,   5.7613272 ,\n",
       "          3.08972479,   4.88961728,   0.13839086,   2.61566754,\n",
       "          4.6558858 ,   0.74273445],\n",
       "       [ 23.13509205,  11.5631186 ,   4.40260154,   5.70988878,\n",
       "         13.09326692,   3.06425947,   0.25484938,   3.6162455 ,\n",
       "          4.01135693,   2.08561717],\n",
       "       [ 29.03002818,  11.86595827,   4.04599693,   5.66322262,\n",
       "          9.51725066,   3.07151447,   0.21547667,   3.2981456 ,\n",
       "          4.39717197,   1.63696253],\n",
       "       [ 26.02923038,  11.32833465,   6.66526145,   5.7125661 ,\n",
       "          9.28766623,   5.39980683,   0.20724412,   3.301529  ,\n",
       "          3.72698791,   1.3534949 ]])"
      ]
     },
     "execution_count": 46,
     "metadata": {},
     "output_type": "execute_result"
    }
   ],
   "source": [
    "# Predicted X from validation using 3 components\n",
    "model_01.X_predVal()[3]"
   ]
  },
  {
   "cell_type": "code",
   "execution_count": 47,
   "metadata": {
    "collapsed": false
   },
   "outputs": [
    {
     "name": "stdout",
     "output_type": "stream",
     "text": [
      "Help on function X_predVal in module hoggorm.pca:\n",
      "\n",
      "X_predVal(self)\n",
      "    Returns a dictionary holding the predicted arrays Xhat from \n",
      "    validation after each computed component. Dictionary key represents \n",
      "    order of component.\n",
      "\n"
     ]
    }
   ],
   "source": [
    "help(ho.nipalsPCA.X_predVal)"
   ]
  },
  {
   "cell_type": "code",
   "execution_count": 48,
   "metadata": {
    "collapsed": false
   },
   "outputs": [
    {
     "data": {
      "text/plain": [
       "array([[ 924.61631704,  159.79802235,  405.10060369,   36.7496845 ,\n",
       "         484.9003821 ,  303.19779128,    1.00299838,   23.53273458,\n",
       "          38.25113374,   40.43911944],\n",
       "       [  87.27700183,  192.59439478,  499.48846917,   39.80778925,\n",
       "         187.68088467,  346.32260574,    1.13178911,   25.46474729,\n",
       "          42.00995354,   40.41672266],\n",
       "       [  38.97884767,  192.56728188,  152.60819172,   43.65578126,\n",
       "          78.64210378,  182.22062896,    1.21662865,   27.91699791,\n",
       "          28.30470843,   30.49034778],\n",
       "       [  27.35994374,  161.24791496,  132.62635242,   41.81408989,\n",
       "          48.79345883,  184.54106073,    1.21435447,   29.82945065,\n",
       "          29.57915556,   27.34855895],\n",
       "       [  14.50495633,   18.92715096,    2.08931538,   42.61038076,\n",
       "          41.14777705,   63.21809617,    1.38226899,   28.76325068,\n",
       "          29.669686  ,   28.49673576]])"
      ]
     },
     "execution_count": 48,
     "metadata": {},
     "output_type": "execute_result"
    }
   ],
   "source": [
    "# Get PRESSCV (Prediction Error of Sum of Squares for Cross Validation) for each variable\n",
    "model_01.X_PRESSCV_indVar()"
   ]
  },
  {
   "cell_type": "code",
   "execution_count": 49,
   "metadata": {
    "collapsed": false
   },
   "outputs": [
    {
     "name": "stdout",
     "output_type": "stream",
     "text": [
      "Help on function X_PRESSCV_indVar in module hoggorm.pca:\n",
      "\n",
      "X_PRESSCV_indVar(self)\n",
      "    Returns array holding PRESSEV for each individual variable in X \n",
      "    acquired through cross validation after each computed component. First \n",
      "    row is PRESSCV for zero components, second row for component 1, third \n",
      "    row for component 2, etc.\n",
      "\n"
     ]
    }
   ],
   "source": [
    "help(ho.nipalsPCA.X_PRESSCV_indVar)"
   ]
  },
  {
   "cell_type": "code",
   "execution_count": 50,
   "metadata": {
    "collapsed": false
   },
   "outputs": [
    {
     "data": {
      "text/plain": [
       "array([ 2417.58878709,  1462.19435805,   776.60151805,   684.3543402 ,\n",
       "         270.80961808])"
      ]
     },
     "execution_count": 50,
     "metadata": {},
     "output_type": "execute_result"
    }
   ],
   "source": [
    "# Get PRESSCV (Prediction Error of Sum of Squares for Cross Validation)\n",
    "model_01.X_PRESSCV()"
   ]
  },
  {
   "cell_type": "code",
   "execution_count": 51,
   "metadata": {
    "collapsed": false
   },
   "outputs": [
    {
     "name": "stdout",
     "output_type": "stream",
     "text": [
      "Help on function X_PRESSCV in module hoggorm.pca:\n",
      "\n",
      "X_PRESSCV(self)\n",
      "    Returns an array holding PRESSCV across all variables in X acquired  \n",
      "    through cross validation after each computed component. First row is \n",
      "    PRESSEV for zero components, second row for component 1, third row for \n",
      "    component 2, etc.\n",
      "\n"
     ]
    }
   ],
   "source": [
    "help(ho.nipalsPCA.X_PRESSCV)"
   ]
  },
  {
   "cell_type": "code",
   "execution_count": 52,
   "metadata": {
    "collapsed": false
   },
   "outputs": [
    {
     "data": {
      "text/plain": [
       "array([[ 26.41760906,   4.56565778,  11.57430296,   1.04999099,\n",
       "         13.85429663,   8.66279404,   0.0286571 ,   0.67236385,\n",
       "          1.09288954,   1.15540341],\n",
       "       [  2.49362862,   5.50269699,  14.27109912,   1.13736541,\n",
       "          5.36231099,   9.89493159,   0.03233683,   0.72756421,\n",
       "          1.20028439,   1.1547635 ],\n",
       "       [  1.11368136,   5.50192234,   4.36023405,   1.24730804,\n",
       "          2.24691725,   5.20630368,   0.03476082,   0.79762851,\n",
       "          0.80870596,   0.87115279],\n",
       "       [  0.78171268,   4.60708328,   3.78932435,   1.19468828,\n",
       "          1.39409882,   5.27260174,   0.03469584,   0.85227002,\n",
       "          0.84511873,   0.7813874 ],\n",
       "       [  0.41442732,   0.54077574,   0.05969473,   1.21743945,\n",
       "          1.17565077,   1.80623132,   0.0394934 ,   0.82180716,\n",
       "          0.84770531,   0.81419245]])"
      ]
     },
     "execution_count": 52,
     "metadata": {},
     "output_type": "execute_result"
    }
   ],
   "source": [
    "# Get MSECV (Mean Squared Error for Cross Validation) for each variable\n",
    "model_01.X_MSECV_indVar()"
   ]
  },
  {
   "cell_type": "code",
   "execution_count": 53,
   "metadata": {
    "collapsed": false
   },
   "outputs": [
    {
     "name": "stdout",
     "output_type": "stream",
     "text": [
      "Help on function X_MSECV_indVar in module hoggorm.pca:\n",
      "\n",
      "X_MSECV_indVar(self)\n",
      "    Returns an arrary holding MSECV for each variable in X acquired through  \n",
      "    cross validation. First row is MSECV for zero components, second row \n",
      "    for component 1, etc.\n",
      "\n"
     ]
    }
   ],
   "source": [
    "help(ho.nipalsPCA.X_MSECV_indVar)"
   ]
  },
  {
   "cell_type": "code",
   "execution_count": 54,
   "metadata": {
    "collapsed": false
   },
   "outputs": [
    {
     "data": {
      "text/plain": [
       "array([ 6.90739653,  4.17769817,  2.21886148,  1.95529811,  0.77374177])"
      ]
     },
     "execution_count": 54,
     "metadata": {},
     "output_type": "execute_result"
    }
   ],
   "source": [
    "# Get MSECV (Mean Squared Error for Cross Validation)\n",
    "model_01.X_MSECV()"
   ]
  },
  {
   "cell_type": "code",
   "execution_count": 55,
   "metadata": {
    "collapsed": false
   },
   "outputs": [
    {
     "name": "stdout",
     "output_type": "stream",
     "text": [
      "Help on function X_MSECV in module hoggorm.pca:\n",
      "\n",
      "X_MSECV(self)\n",
      "    Returns an array holding MSECV across all variables in X acquired \n",
      "    through cross validation after each computed component. First row is \n",
      "    MSECV for zero components, second row for component 1, third row for \n",
      "    component 2, etc.\n",
      "\n"
     ]
    }
   ],
   "source": [
    "help(ho.nipalsPCA.X_MSECV)"
   ]
  },
  {
   "cell_type": "code",
   "execution_count": 56,
   "metadata": {
    "collapsed": false
   },
   "outputs": [
    {
     "data": {
      "text/plain": [
       "array([[ 5.13980632,  2.13673999,  3.40210273,  1.02469068,  3.72213603,\n",
       "         2.94326248,  0.16928407,  0.81997795,  1.04541357,  1.07489693],\n",
       "       [ 1.57912274,  2.34578281,  3.77771083,  1.06647335,  2.31566642,\n",
       "         3.14562102,  0.17982445,  0.85297374,  1.09557491,  1.07459923],\n",
       "       [ 1.05531103,  2.34561769,  2.08811735,  1.11682946,  1.49897206,\n",
       "         2.28173261,  0.18644253,  0.8931005 ,  0.8992808 ,  0.93335566],\n",
       "       [ 0.88414517,  2.14641172,  1.9466187 ,  1.09301797,  1.18071962,\n",
       "         2.29621465,  0.1862682 ,  0.92318472,  0.91930339,  0.8839612 ],\n",
       "       [ 0.6437603 ,  0.73537456,  0.24432504,  1.10337639,  1.08427431,\n",
       "         1.34396106,  0.19872946,  0.9065358 ,  0.92070914,  0.90232613]])"
      ]
     },
     "execution_count": 56,
     "metadata": {},
     "output_type": "execute_result"
    }
   ],
   "source": [
    "# Get RMSECV (Root Mean Squared error for Cross Validation) for each variable\n",
    "model_01.X_RMSECV_indVar()"
   ]
  },
  {
   "cell_type": "code",
   "execution_count": 57,
   "metadata": {
    "collapsed": false
   },
   "outputs": [
    {
     "name": "stdout",
     "output_type": "stream",
     "text": [
      "Help on function X_RMSECV_indVar in module hoggorm.pca:\n",
      "\n",
      "X_RMSECV_indVar(self)\n",
      "    Returns an arrary holding RMSECV for each variable in X acquired \n",
      "    through cross validation after each computed component. First row is \n",
      "    RMSECV for zero components, second row for component 1, third row for \n",
      "    component 2, etc.\n",
      "\n"
     ]
    }
   ],
   "source": [
    "help(ho.nipalsPCA.X_RMSECV_indVar)"
   ]
  },
  {
   "cell_type": "code",
   "execution_count": 58,
   "metadata": {
    "collapsed": false
   },
   "outputs": [
    {
     "data": {
      "text/plain": [
       "array([ 2.62819264,  2.04394182,  1.48958433,  1.39831975,  0.87962592])"
      ]
     },
     "execution_count": 58,
     "metadata": {},
     "output_type": "execute_result"
    }
   ],
   "source": [
    "# Get RMSECV (Root Mean Squared Error of Cross Validation)\n",
    "model_01.X_RMSECV()"
   ]
  },
  {
   "cell_type": "code",
   "execution_count": 59,
   "metadata": {
    "collapsed": false
   },
   "outputs": [
    {
     "name": "stdout",
     "output_type": "stream",
     "text": [
      "Help on function X_RMSECV in module hoggorm.pca:\n",
      "\n",
      "X_RMSECV(self)\n",
      "    Returns an array holding RMSECV across all variables in X acquired \n",
      "    through cross validation after each computed component. First row is \n",
      "    RMSECV for zero components, second row for component 1, third row for \n",
      "    component 2, etc.\n",
      "\n"
     ]
    }
   ],
   "source": [
    "help(ho.nipalsPCA.X_RMSECV)"
   ]
  },
  {
   "cell_type": "code",
   "execution_count": 60,
   "metadata": {
    "collapsed": false
   },
   "outputs": [
    {
     "data": {
      "text/plain": [
       "array([[  5.79356313,   2.71523011],\n",
       "       [  3.63649695,   2.27191157],\n",
       "       [-12.18751271,  -9.76967535],\n",
       "       [  1.03975434,   0.82552204],\n",
       "       [ -1.17969829,   3.7420287 ],\n",
       "       [  0.37358241,   0.29327224],\n",
       "       [ -1.43603796,   1.80494004]])"
      ]
     },
     "execution_count": 60,
     "metadata": {},
     "output_type": "execute_result"
    }
   ],
   "source": [
    "# Get predicted scores for new measurements of X\n",
    "\n",
    "# First pretend that we acquired new X data by using part of the existing data and overlaying some noise\n",
    "import numpy.random as npr\n",
    "new_oecd = oecd[2:9, :] + npr.rand(7, 10)\n",
    "np.shape(new_oecd)\n",
    "\n",
    "# Now insert the new data into the existing model and compute scores for two components (numComp=2)\n",
    "model_01.X_scores_predict(new_oecd, numComp=2)"
   ]
  },
  {
   "cell_type": "code",
   "execution_count": 61,
   "metadata": {
    "collapsed": false
   },
   "outputs": [
    {
     "name": "stdout",
     "output_type": "stream",
     "text": [
      "Help on function X_scores_predict in module hoggorm.pca:\n",
      "\n",
      "X_scores_predict(self, Xnew, numComp=1)\n",
      "    Returns array of X scores from new X data using the exsisting model. \n",
      "    Rows represent objects and columns represent components.\n",
      "\n"
     ]
    }
   ],
   "source": [
    "help(ho.nipalsPCA.X_scores_predict)"
   ]
  },
  {
   "cell_type": "code",
   "execution_count": 62,
   "metadata": {
    "collapsed": false
   },
   "outputs": [
    {
     "data": {
      "text/plain": [
       "{'x test': array([[ 20.49342921,   9.29002397,   2.95478965,   5.03347384,\n",
       "          13.61269526,   4.04992148,   0.15703777,   3.85569055,\n",
       "           3.10769485,   4.42598562]]),\n",
       " 'x train': array([[ 22.28692919,  10.94472176,   4.58495101,   6.62784249,\n",
       "          10.57496765,   5.66648179,   0.14790164,   3.78073581,\n",
       "           3.03198373,   1.9412091 ],\n",
       "        [ 30.09070593,  10.45090049,   3.25358223,   5.17943999,\n",
       "           9.16261338,   3.45076903,   0.14460365,   3.56908111,\n",
       "           4.71933745,   1.01879848],\n",
       "        [ 27.73162434,  11.44341588,   3.01184165,   5.41973257,\n",
       "           9.7396946 ,   3.8637023 ,   0.19516312,   3.78985679,\n",
       "           3.53403487,   1.5375689 ],\n",
       "        [ 13.304823  ,   8.02249149,  17.27251129,   4.16567672,\n",
       "          16.19545419,   5.04474539,   0.22174705,   3.00942425,\n",
       "           2.16203374,   0.55436763],\n",
       "        [ 24.87532416,  13.97034377,   4.45508345,   6.74246958,\n",
       "           9.45541592,   3.46432609,   0.27927389,   3.37123479,\n",
       "           3.55741738,   1.52270763],\n",
       "        [ 24.31158521,  12.16819648,   3.21260233,   6.37558918,\n",
       "          14.30166212,   3.16298685,   0.21086579,   3.1009675 ,\n",
       "           4.36616224,   2.24510047],\n",
       "        [ 26.37195122,  10.26422764,   8.33333333,   5.43699187,\n",
       "          13.00813008,   2.38821138,   0.10162602,   3.86178862,\n",
       "           3.50609756,   1.01626016],\n",
       "        [ 23.9178867 ,   9.81858689,   4.1693189 ,   7.94080204,\n",
       "          13.57415659,   4.23297263,   0.15913431,   2.73711012,\n",
       "           2.92807129,   2.4188415 ],\n",
       "        [ 25.12575792,  10.16168875,   3.36065574,   5.33572872,\n",
       "           9.88547047,   6.46642713,   0.14372333,   3.53581855,\n",
       "           4.35099933,   1.11273299],\n",
       "        [ 24.4012222 ,  11.17718566,   4.59227256,   6.79518349,\n",
       "          11.01291192,   4.10684364,   0.15195322,   3.60991556,\n",
       "           3.19840983,   1.46778592],\n",
       "        [ 31.66724517,   8.50399167,   4.83049867,   5.22966562,\n",
       "           9.01307416,   1.23799607,   0.79254888,   3.82390374,\n",
       "           5.58255235,   0.76940877],\n",
       "        [ 30.41257367,  16.08195341,   5.28767892,   5.29329217,\n",
       "           6.79764244,   3.10412574,   0.11787819,   2.55964075,\n",
       "           3.57563851,   1.04406399],\n",
       "        [ 20.32258065,  13.22580645,   4.19354839,   3.87096774,\n",
       "          17.09677419,   0.96774194,   0.64516129,   2.90322581,\n",
       "           5.80645161,   0.96774194],\n",
       "        [ 22.95747731,  12.32680363,   4.3956044 ,   5.8050645 ,\n",
       "          12.4462494 ,   3.51170569,   0.23889154,   3.05781175,\n",
       "           2.86669852,   1.88724319],\n",
       "        [ 21.82289737,  12.67135976,   5.44646165,   8.72545387,\n",
       "           7.72508336,   3.50129678,   0.35198222,   5.09447944,\n",
       "           4.89070026,   2.27862171],\n",
       "        [ 26.06741808,  10.90044415,   6.08711137,   5.39889382,\n",
       "           7.62800637,   6.95340652,   0.25035616,   3.66001844,\n",
       "           4.68763094,   1.13131652],\n",
       "        [ 23.99056121,  11.97177581,  14.73796762,   7.31552192,\n",
       "           5.32775363,   9.13276522,   0.0511575 ,   2.21498131,\n",
       "           2.42698535,   0.1511681 ],\n",
       "        [ 26.20420989,  10.09857518,  13.10748569,   5.63040765,\n",
       "           3.14235289,  18.28160647,   0.09470105,   1.97796048,\n",
       "           1.97580819,   0.27118936],\n",
       "        [ 25.18382353,  11.94852941,   4.04411765,   6.06617647,\n",
       "           7.72058824,   6.06617647,   0.18382353,   4.77941176,\n",
       "           4.04411765,   1.83823529],\n",
       "        [ 11.49597401,   6.91058059,   8.22715073,   5.08828931,\n",
       "          16.32151434,   7.59146772,   0.74021755,   6.26077129,\n",
       "           1.87314592,   0.80237322],\n",
       "        [ 27.15515358,  11.46939311,   3.54349631,   5.33490628,\n",
       "          11.07615677,   2.1278455 ,   0.15729453,   3.06287412,\n",
       "           3.70079084,   2.15406126],\n",
       "        [ 19.7737655 ,  13.09549706,   4.19839025,   4.76397651,\n",
       "          12.72569067,   3.56754405,   0.19577986,   4.15488362,\n",
       "           2.74091799,   5.28605612],\n",
       "        [ 21.39823009,  13.45132743,   3.20353982,   6.19469027,\n",
       "          17.48672566,   2.56637168,   0.17699115,   3.22123894,\n",
       "           4.24778761,   3.30973451],\n",
       "        [ 30.65693431,  11.9202253 ,   6.43906738,   4.55006993,\n",
       "           8.20162078,   2.0863268 ,   0.19541353,   2.9273713 ,\n",
       "           5.14588961,   1.41579018],\n",
       "        [ 20.39060984,  14.4667917 ,   8.73051801,   4.73388088,\n",
       "          11.1039255 ,   4.69507858,   0.15520921,   3.00071138,\n",
       "           4.41699541,   0.8213154 ],\n",
       "        [ 22.66305123,  15.09918653,   6.10817754,   5.65149137,\n",
       "           7.60667903,   3.11117454,   0.28542886,   2.55458827,\n",
       "           3.12544598,   1.54131583],\n",
       "        [ 24.94577007,  13.72792067,   7.46823675,   5.11310815,\n",
       "          11.09389526,   3.99752092,   0.15494267,   2.47908274,\n",
       "           4.09048652,   2.1691974 ],\n",
       "        [ 26.77706347,  14.07025989,   5.24511745,   4.82770178,\n",
       "           8.81600195,   5.13847841,   0.19652052,   2.95390147,\n",
       "           6.38463179,   0.88510405],\n",
       "        [ 16.05304484,  12.34514046,   3.35020066,   6.96213575,\n",
       "          20.44145873,   3.57703717,   0.15704066,   3.56831268,\n",
       "           4.24009771,   2.74821148],\n",
       "        [ 21.6075388 ,  10.18847007,   3.68070953,   6.24168514,\n",
       "          14.16851441,   5.36585366,   0.        ,   3.35920177,\n",
       "           4.25720621,   2.37250554],\n",
       "        [ 38.97165809,   7.62341947,   8.84685534,   5.21138595,\n",
       "           7.22585405,   3.72358957,   0.21927578,   3.61292702,\n",
       "           3.39774986,   0.57175646],\n",
       "        [ 22.80308077,  10.26261351,   3.44775195,   4.94606314,\n",
       "          12.70759557,   3.42788355,   0.19167163,   3.22335589,\n",
       "           4.03796033,   1.52168577],\n",
       "        [ 29.1412459 ,   9.06313206,   2.22684233,   6.21157825,\n",
       "           9.48724506,   4.53771019,   0.23713131,   4.26803145,\n",
       "           3.46364485,   1.99336431],\n",
       "        [ 25.99183401,  10.69682199,   6.27003433,   5.93330568,\n",
       "           9.23545076,   5.68609345,   0.19401109,   3.4329224 ,\n",
       "           3.61767804,   1.30431127]])}"
      ]
     },
     "execution_count": 62,
     "metadata": {},
     "output_type": "execute_result"
    }
   ],
   "source": [
    "# Get training and test data from cross validation. Showing only first split.\n",
    "model_01.cvTrainAndTestData()[0]"
   ]
  },
  {
   "cell_type": "code",
   "execution_count": 63,
   "metadata": {
    "collapsed": false
   },
   "outputs": [
    {
     "name": "stdout",
     "output_type": "stream",
     "text": [
      "Help on function cvTrainAndTestData in module hoggorm.pca:\n",
      "\n",
      "cvTrainAndTestData(self)\n",
      "    Returns a list consisting of dictionaries holding training and test\n",
      "    sets.\n",
      "\n"
     ]
    }
   ],
   "source": [
    "help(ho.nipalsPCA.cvTrainAndTestData)"
   ]
  }
 ],
 "metadata": {
  "anaconda-cloud": {},
  "kernelspec": {
   "display_name": "Python [default]",
   "language": "python",
   "name": "python3"
  },
  "language_info": {
   "codemirror_mode": {
    "name": "ipython",
    "version": 3
   },
   "file_extension": ".py",
   "mimetype": "text/x-python",
   "name": "python",
   "nbconvert_exporter": "python",
   "pygments_lexer": "ipython3",
   "version": "3.5.2"
  }
 },
 "nbformat": 4,
 "nbformat_minor": 1
}
